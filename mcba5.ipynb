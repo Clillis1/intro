{
 "cells": [
  {
   "cell_type": "markdown",
   "metadata": {},
   "source": [
    "# Solutions to (some of, well, one of...) the homework problems\n",
    "\n",
    "I strongly advise you not to look at the solutions until you have tried really hard to solve the problems by yourself.\n",
    "\n",
    "In the solution to the telescope slew problem, we use numpy arrays as much as possible to simplify the code. This also makes it very efficient (in terms of execution time), which isn't an issue in this example, but could be if you had to calculate billions of distances."
   ]
  },
  {
   "cell_type": "code",
   "execution_count": null,
   "metadata": {
    "collapsed": false
   },
   "outputs": [],
   "source": [
    "import numpy as np\n",
    "import matplotlib.pyplot as plt\n",
    "%matplotlib inline\n",
    "\n",
    "# Get the slew data from a URL. The columns are time in seconds,\n",
    "# then altitude and azimuth in degrees. Warning: numpy.genfromtxt()\n",
    "# caches the data that it reads from the web, and it won't pick up\n",
    "# changes that are later made to the web file.\n",
    "\n",
    "arr = np.genfromtxt('http://mcba11.phys.unsw.edu.au/~mcba/phys3112/slew99.dat')\n",
    "\n",
    "# Convert columns 1 and 2 (alt/az) from degrees to radians.\n",
    "\n",
    "arr[:,1:3] *= np.pi / 180.0\n",
    "\n",
    "# Find the great circle distance between neighbouring rows, using\n",
    "# the haversine formula (see wikipedia: \"great circle distance\").\n",
    "# The haversine formula performs well for small angles. \"ds\" will\n",
    "# have one less element than the number of rows in the original array.\n",
    "\n",
    "ds = 2 * np.arcsin((np.sin((arr[1:,2] - arr[:-1,2])/2)**2 + np.cos(arr[1:,2])*np.cos(arr[:-1,2])*np.sin((arr[1:,1] - arr[:-1,1])/2)**2)**0.5)\n",
    "\n",
    "# Calculate the velocity in degrees per second along the direction of\n",
    "# motion.\n",
    "\n",
    "velocity = (ds / (arr[1:,0] - arr[:-1,0])) * 180.0 / np.pi\n",
    "\n",
    "# Calculate the great circle distance to the target position,\n",
    "# assumed to be the last row in the data.\n",
    "\n",
    "distance = 2 * np.arcsin((np.sin((arr[-1,2] - arr[:,2])/2)**2 + np.cos(arr[-1,2])*np.cos(arr[:,2])*np.sin((arr[-1,1] - arr[:,1])/2)**2)**0.5)\n",
    "\n",
    "# Convert radians to arcseconds.\n",
    "\n",
    "distance *= 3600 * 180 / np.pi\n",
    "\n",
    "# Plot results.\n",
    "\n",
    "plt.plot(arr[:-1,0], velocity)\n",
    "plt.xlabel(\"Time [seconds]\")\n",
    "plt.ylabel(\"Velocity [degrees per second]\")\n",
    "plt.show()\n",
    "\n",
    "# Since we are going to take the logarithm of the distance,\n",
    "# let's make sure that we don't have very small or zero distances\n",
    "# by setting any value less than 0.1 arcseconds to 0.1.\n",
    "#\n",
    "# Here is one way to do this, using numpy array operations, and using\n",
    "# the fact that a logical operator such as \"<\" returns 0 or 1.\n",
    "#\n",
    "# distance += (0.1 - distance) * (distance < 0.1)\n",
    "\n",
    "# Here is another way, using numpy.full_like() to create an array\n",
    "# of the same shape as \"distance\", filled with the scalar value 0.1. We\n",
    "# can then use numpy.maximum() to clip \"distance\". I like this\n",
    "# approach the best.\n",
    "\n",
    "distance = np.maximum(distance, np.full_like(distance, 0.1))\n",
    "\n",
    "# An alternative approach is to use numpy.clip to do the work, such\n",
    "# as in this commented-out piece of code:\n",
    "#\n",
    "# np.clip(distance, 0.1, 100000, out=distance)\n",
    "\n",
    "plt.plot(arr[:,0], np.log10(distance))\n",
    "plt.xlabel(\"Time [seconds]\")\n",
    "plt.ylabel(\"Distance to target [log10 arcsecs]\")\n",
    "plt.show()\n"
   ]
  },
  {
   "cell_type": "markdown",
   "metadata": {},
   "source": [
    "You can see in the plots that this program generates that the telescope initially accelerates to a maximum slew speed of about 2 degrees per second, it then switches to a different algorithm when it is about 10 arcminutes from the final position, and then approaches the final position exponentially (hence the straight line in the log/lin plot). The noise between 60 and 70 seconds gives an idea of the tracking precision of the telescope mounting."
   ]
  },
  {
   "cell_type": "code",
   "execution_count": null,
   "metadata": {
    "collapsed": true
   },
   "outputs": [],
   "source": []
  }
 ],
 "metadata": {
  "kernelspec": {
   "display_name": "Python [conda root]",
   "language": "python",
   "name": "conda-root-py"
  },
  "language_info": {
   "codemirror_mode": {
    "name": "ipython",
    "version": 3
   },
   "file_extension": ".py",
   "mimetype": "text/x-python",
   "name": "python",
   "nbconvert_exporter": "python",
   "pygments_lexer": "ipython3",
   "version": "3.5.2"
  }
 },
 "nbformat": 4,
 "nbformat_minor": 1
}
