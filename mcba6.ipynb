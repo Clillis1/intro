{
 "cells": [
  {
   "cell_type": "markdown",
   "metadata": {},
   "source": [
    "# Random numbers\n",
    "\n",
    "Random numbers play a surprisingly central role in many areas of physics, and life in general.\n",
    "\n",
    "They are used in cryptography, which is necessary for securing communications, on-line banking, crypto-currencies (e.g., bitcoin), and so on. You might think that the security of on-line communications is not super-critical, but without it it is possible for eavesdropping computers to intercept your communications and alter them before passing them on. In physics, random numbers are very useful for so-called Monte-Carlo computer simulations, where you generate fake - but realistic - data for testing hypotheses.\n",
    "\n",
    "So, we need a source of truly random numbers. All you need is a random sequence of binary 1's and 0's - this is sufficient to generate any randomness you need (e.g, a 32-bit number, a floating point number to a certain precision, and so on).\n",
    "\n",
    "The problem is that perfect randomness is impossible to achieve. You can get close by using observations of a natural phenomenon such as radiative decay, or a noise source, but there are always going to be observational biases that can subtly affect the results.\n",
    "\n",
    "## Linear conguential random number generators\n",
    "\n",
    "There are various algorithmic techniques for generating pseudo-random numbers. One of the best known are the linear congruential random number generators that we explored in one of the homework exercises. Here is how we generate the next random number in such a sequence:\n",
    "\n",
    "$$X_{n+1}=(aX_n+c)\\,\\,{\\rm mod}\\,\\,m$$\n",
    "\n",
    "Where $m$ is the modulus, $a$ is the multiplier, and $c$ is the increment. These constants have to be chosen carefully, and [wikipedia will show you a table](https://en.wikipedia.org/wiki/Linear_congruential_generator) of 20 or so choices that various software libraries use. For example, the GNU C library uses $m=2^{31}-1, a=1103515245,$ and $c=12345$. \n",
    "\n",
    "The linear congruential generators produce random numbers between 0 and $m-1$. They have the advantages of being very quick to calculate, giving a reasonable degree of randomness, and being absolutely predictable given an initial seed of $X_0$. This last advantage is useful if you want to exactly reproduce the result of a calculation. However, it is a disadvantage if you want your sequence of random numbers to be unpredictable. Programmers will often generate a seed by using the current time to nanosecond precision, but this is a risky thing to do if you are worried about someone being able to guess your numbers.\n",
    "\n",
    "## The Mersenne Twister random number generator\n",
    "\n",
    "This is based on an algorithm developed by two Japanese researchers in 1997, and is very widely used (e.g., Python uses it). See [its wikipedia page](https://en.wikipedia.org/wiki/Mersenne_Twister) for a description of how it works.\n",
    "\n",
    "A disadvantage of this PRNG (psuedo-random number generator), and the linear congruential one we discussed above, is that they are not *crytographically secure*, i.e., although the sequence of numbers is nicely random, if you observe a sufficiently long sequence (just 624 numbers in the case of the Mersenne Twister) then you can predict all future iterations. There are also various subtle issues that you should be aware of, e.g., if you want to use different seeds to generate distinct sets of random numbers, and with the time it takes for the sequence to randomise when starting from seeds with lots of zeroes.\n",
    "\n",
    "## Sources of randomness available from the Linux OS\n",
    "\n",
    "Linux computers have a file called `/dev/random` that, if you read it, will give you an endless stream of 8-bit (i.e., from 0 to 255) random numbers. You can print out the binary digits in this file using\n",
    "\n",
    "```\n",
    "cat /dev/random | perl -n -e \"print unpack 'B*';\"\n",
    "```\n",
    "\n",
    "Note that due to buffering of data, the above command will output 4096 bits at a time. Aside: for those interested in the details, the above command uses the `cat` program to read `/dev/random`, and the resultant bytes are \"piped\" with the `|` command to a program written in the `perl` programming language; the program is simply the instruction to convert each byte to a series of bits and display the result.\n",
    "\n",
    "While the file is endless, the rate at which new bytes (8-bit numbers) are produced is limited by the sources of entropy (randomness) that are available to the operating system (OS) - in a test I did while writing this, it took about 15 minutes to generate 4096 random bits. Linux makes use of things such as mouse movements, keyboard activity, network activity, timing of computer interrupts, and possibly hardware random number generators. You might find that the rate of new bytes from `/dev/random` is too slow for your application, in which case you could try `/dev/urandom`, which uses a pseudo-random number generator seeded by `/dev/random` to continue to provide numbers even when entropy from the environment has run out. It is widely regarded as a very good source of random numbers.\n",
    "\n",
    "## Internet-based RNGs\n",
    "\n",
    "[There are](http://www.random.org) RNGs that you can access on the internet. While they may be very good, you should use them at your own risk.\n",
    "\n",
    "## Testing random generators\n",
    "\n",
    "There are programs available to test whether a given list of random numbers satisfy various tests of randomness. E.g., the [DieHarder suite](https://en.wikipedia.org/wiki/Diehard_tests) of tests from Robert Brown at Duke University.\n",
    "\n",
    "A simple test for randomness is to generate a file of random numbers and then try compressing the file using a program such as gzip, bzip2, or 7z. If the resultant file is *larger* than the original, then you have random numbers that at least pass this test.\n",
    "\n",
    "As an experiment, I took 4096 bits from `/dev/random` and compressed then with gzip and bzip2. gzip \"compressed\" the file to 5960 bits, and bzip2 to 6008 bits. In a longer test, a random file of 26,345,472 bytes was \"compressed\" to 26,349,514 by gzip, and 26,461,061 by bzip2. The fact that the original files couldn't be compressed to a smaller size is an indication of their randomness.\n",
    "\n",
    "Visual tests of random number generators can sometimes make faults obvious. For example, the following images were generating by assigning each pixel to be black or white depending on a random number generator, with the sequence following a raster pattern. The first image was created with random numbers from http://www.random.org, the second is from the PHP computer language running on Windows in 2008. There are clearly problems with the latter.\n",
    "\n",
    "![](http://mcba11.phys.unsw.edu.au/~mcba/phys3112/randbitmap-rdo.png)\n",
    "\n",
    "![](http://mcba11.phys.unsw.edu.au/~mcba/phys3112/randbitmap-wamp.png)\n",
    "\n",
    "\n",
    "## Example: generating a 16-bit ID upon first boot of an ATtiny-85.\n",
    "\n",
    "![](http://mcba11.phys.unsw.edu.au/~mcba/20160908_121516.jpg)\n",
    "\n",
    "The ATtiny-85 is an 8-bit microcontroller the size of your little fingernail that is a very useful building block for all sorts of instruments. I'm using hundreds of these devices to control the battery packs for my astronomical experiments in Antarctica - the image above shows one of the printed circuit boards that I use; the ATtiny-85 is the black 8-pin component labelled U1 at lower centre. \n",
    "\n",
    "One issue I faced is that I wanted the software running on each ATtiny-85 to have its own unique 16-bit serial number, but I didn't want to have to individually program each one with a different number, since that is time consuming to do. Initially, each device is programmed with an identical \"bootstrap\" program, which allows the longer application program to be loaded at a later time using an infrared receiver (U2 in the image above) attached to the ATtiny-85. As part of the bootstrap process I wanted each device to generate a random 16-bit ID, which it would store in its on-board non-volatile memory, and which would then be used as an address for all subsequent communication with the device.\n",
    "\n",
    "This is an interesting problem. All ATtiny-85s are nominally identical (e.g., unlike some microprocessors they don't gave an inbuilt serial number), which would make it impossible to generate a random number that differed from device to device. However, on closer inspection there are some differences. E.g., the ATtiny-85 has an internal RC (resistor-capacitor) oscillator that sets its cycle-time, and to calibrate this to within a few percent, the manufacturer loads a special 8-bit register in the ATtiny-85 with a number that is used by the oscillatory division circuitry. This number does vary from device to device, although at the best you would get an 8-bit random number by using it, and more likely you would reliably have only a bit (e.g., it could be that the manufacturing tolerance was very high, and most of the devices had the same calibration number).\n",
    "\n",
    "Even closer inspection reveals that the ATtiny-85 has two independent RC oscillators in it (one is used for high speed normal operation, the other operates a \"watchdog timer\" that allows the device to go into low-power mode), and that they drift in different directions with temperature and voltage. By comparing these two oscillators it would be possible to generate random numbers. For example, you could count the number of oscillations of the high speed oscillator in a fixed number of low-speed clock cycles. Provided that you made the observation time long enough, the least-significant bit of the count should be quite random. But you might have to wait minutes to generate 16-bits of randomness.\n",
    "\n",
    "Further inspection of the datasheet for the ATtiny-85 reveals that it has an internal temperature sensor, and an analog-to-digital converter. The temperature sensor has fairly poor resolution (about a degree C), and is not very accurate (which is good from a randomness point-of-view), but probably adds only a bit of entropy. The ADC could be used to measure some external voltage, but this is also unlikely to add more than a bit of entropy unless a cleverly designed circuit is used.\n",
    "\n",
    "In the end, I used the fact that my ATtiny-85s are all connected to infrared receivers, and I can time the interval between pulses on the infrared receivers to microsecond precision (as measured by the fairly inaccurate internal clock). I used the least significant bit of each interval to generate a single bit of randomness, so I only required 16 transitions of the infrared receiver to derive the 16-bit device ID.\n",
    "\n",
    "Now 16-bits gives a total of 65536 IDs, and I needed to allocate one ID to indicate \"ID not yet determined\", leaving 65535 possibilities. There is a chance that two devices would arrive at the same ID, and I solved this by simply reprogramming a device in this unlikely case.\n",
    "\n",
    "[A movie showing the battery management system in action](http://mcba11.phys.unsw.edu.au/~mcba/20160912_1301011.mp4)\n",
    "\n",
    "## Generating randomness on bootup\n",
    "\n",
    "The example above with the ATtiny-85 might sound artificial and a niche application, but it is actually very similar to what all modern computers (down to the level of any internet-connected device) have to do when they first start up. Any networked device has to be able to generate random numbers in order to be able to communicate securely. There are numerous example of poor, predictable, random number generators leading to security problems.\n",
    "\n",
    "## Random numbers in Python\n",
    "\n",
    "Python provides a wealth of random number functions that will satisfy almost all the needs of a physicist.\n",
    "\n",
    "Our first example program generates 100 random bytes, and prints out the result as 800 random bits (since a byte, encoding numbers from 0 to 255, consists of 8 bits)."
   ]
  },
  {
   "cell_type": "code",
   "execution_count": 4,
   "metadata": {
    "collapsed": false
   },
   "outputs": [
    {
     "name": "stdout",
     "output_type": "stream",
     "text": [
      "[1 1 1 1 0 0 0 1 1 0 1 0 0 1 1 0 0 1 0 0 0 1 0 0 1 1 0 1 1 1 0 1 0 0 0 0 1\n",
      " 1 1 0 0 0 0 1 0 1 0 1 1 0 0 0 0 1 1 0 0 0 1 0 1 1 1 0 0 0 1 1 0 1 0 0 0 1\n",
      " 1 0 0 0 0 1 0 0 1 0 0 0 0 1 1 1 1 1 1 1 1 0 1 1 1 1 1 0 1 0 1 1 0 0 1 0 1\n",
      " 1 0 0 1 1 1 0 0 0 1 0 0 1 1 1 1 1 0 1 1 1 1 1 0 0 0 0 0 0 0 0 0 1 0 0 0 1\n",
      " 0 1 0 0 1 1 1 1 0 0 1 0 0 1 1 1 1 0 1 0 1 0 1 0 0 1 0 0 1 0 1 1 0 0 1 1 0\n",
      " 1 1 1 1 0 0 0 0 0 0 1 0 0 0 0 1 0 0 1 1 1 1 1 1 1 0 1 1 1 0 1 0 0 1 1 1 0\n",
      " 1 0 1 1 0 1 1 1 0 0 1 0 1 1 0 1 1 0 1 0 1 1 1 0 1 1 0 1 0 1 1 1 1 1 0 0 1\n",
      " 1 1 1 1 0 0 1 0 0 0 0 0 0 0 1 0 0 1 0 1 1 1 1 0 0 0 1 0 0 0 1 1 1 0 1 1 1\n",
      " 0 1 0 1 0 1 0 0 1 1 0 1 0 1 0 1 1 0 1 0 1 1 0 0 1 1 0 1 0 0 1 1 0 1 0 0 1\n",
      " 0 1 1 0 0 1 0 1 1 1 1 1 0 1 1 0 0 1 0 1 1 0 1 1 0 1 1 0 0 0 0 0 1 0 0 0 1\n",
      " 0 1 0 0 1 0 1 0 1 0 1 0 0 1 1 0 0 0 0 1 1 1 1 0 1 1 0 1 0 1 1 0 0 1 1 1 1\n",
      " 1 1 1 0 1 1 0 0 1 1 1 0 1 0 0 1 1 0 1 0 0 0 1 0 1 0 0 1 0 0 0 1 1 0 0 0 0\n",
      " 1 1 1 1 1 1 1 1 0 1 1 0 1 0 1 1 1 0 1 0 1 0 1 1 1 0 0 0 1 0 1 0 1 0 0 1 1\n",
      " 0 1 0 0 1 0 0 0 0 0 1 1 0 0 0 0 0 0 0 0 0 1 1 1 0 1 1 0 0 1 1 1 0 1 0 0 1\n",
      " 0 0 1 1 0 0 0 1 1 1 0 1 0 1 0 1 1 0 0 1 0 0 1 1 0 0 0 1 0 0 1 0 0 1 1 0 1\n",
      " 0 0 0 0 0 1 1 0 0 1 0 1 1 0 0 1 0 0 1 1 1 0 0 1 1 1 1 0 0 1 0 1 1 1 0 0 1\n",
      " 0 1 0 0 1 1 1 0 0 1 0 1 0 0 1 0 1 1 0 1 0 1 0 1 1 1 1 0 1 1 1 1 0 0 1 1 1\n",
      " 1 1 1 0 0 1 1 0 0 1 0 1 1 1 1 1 0 1 0 0 0 0 1 0 1 1 0 0 0 1 1 1 1 0 0 0 1\n",
      " 1 0 1 1 1 1 0 0 0 0 0 1 1 1 1 0 1 1 0 0 0 1 1 0 0 1 0 1 1 0 0 0 0 1 0 0 1\n",
      " 1 0 0 1 0 1 1 0 1 0 0 0 1 1 0 1 0 1 0 1 0 1 0 1 1 1 1 0 0 1 0 0 0 0 1 0 0\n",
      " 0 0 1 0 1 0 1 0 0 1 0 1 1 1 1 1 0 0 0 1 0 1 0 1 1 1 1 0 1 0 1 1 0 0 0 1 0\n",
      " 0 1 1 1 1 1 0 0 1 0 0 0 1 0 0 1 0 0 1 0 0 1 0]\n"
     ]
    }
   ],
   "source": [
    "import numpy as np\n",
    "\n",
    "# Ask numpy for 100 random bytes.\n",
    "\n",
    "b = np.random.bytes(100)\n",
    "\n",
    "# For printing purposes, let's convert these to bits.\n",
    "\n",
    "bb = np.unpackbits(bytearray(b))\n",
    "print(bb)"
   ]
  },
  {
   "cell_type": "markdown",
   "metadata": {},
   "source": [
    "Our next example uses numpy routines to generate random integers, and random floating-point numbers. "
   ]
  },
  {
   "cell_type": "code",
   "execution_count": 5,
   "metadata": {
    "collapsed": false
   },
   "outputs": [
    {
     "name": "stdout",
     "output_type": "stream",
     "text": [
      "[1 1 4 7 3 3 8 0 8 2 5 3 2 8 3 9 5 2 1 7 2 6 7 3 4 0 7 7 2 8 6 3 3 0 5 7 6\n",
      " 2 2 6 9 5 6 0 8 6 1 5 9 1 2 8 7 4 6 7 0 2 2 5 5 8 8 8 5 1 2 2 5 1 1 9 3 3\n",
      " 0 2 4 2 9 8 2 6 6 4 1 1 2 1 9 1 1 0 5 2 1 9 0 6 5 6]\n",
      "[ 0.39506666  0.36445197  0.11805842  0.51585497  0.5944166   0.93200405\n",
      "  0.13043508  0.69171936  0.19216966  0.82150608  0.96666577  0.52564913\n",
      "  0.21005874  0.55971971  0.22394019  0.12954558  0.51773408  0.34503644\n",
      "  0.78599651  0.95988167  0.31398389  0.51811833  0.4583454   0.45480732\n",
      "  0.40271489  0.95072921  0.82502191  0.50501224  0.46398929  0.91234757\n",
      "  0.23646766  0.38991408  0.53070281  0.77971414  0.73890936  0.72403272\n",
      "  0.39665467  0.5813795   0.8379599   0.279083    0.53859897  0.61680523\n",
      "  0.76825275  0.08268883  0.23201782  0.03151984  0.9153598   0.17891049\n",
      "  0.90563283  0.62143994  0.6562525   0.6434081   0.38918299  0.62152957\n",
      "  0.1527089   0.42454165  0.96730073  0.78990546  0.81978083  0.5781011\n",
      "  0.83995449  0.1466907   0.06717847  0.2239562   0.95810819  0.86779592\n",
      "  0.55795577  0.7673184   0.61401695  0.61222928  0.12026751  0.97998109\n",
      "  0.25953954  0.95195283  0.60893997  0.45273469  0.99927598  0.78510439\n",
      "  0.32215889  0.61770965  0.78137492  0.96606538  0.53188739  0.28126235\n",
      "  0.32021845  0.92264221  0.65103646  0.34622764  0.51405837  0.2729233\n",
      "  0.13308142  0.25107077  0.32894548  0.08045486  0.0178186   0.41577677\n",
      "  0.97937642  0.95660444  0.11676441  0.80119708]\n"
     ]
    }
   ],
   "source": [
    "import numpy as np\n",
    "\n",
    "# Generate 100 random integers between 0 and 9.\n",
    "\n",
    "ri = np.random.randint(10, size=100)\n",
    "print(ri)\n",
    "\n",
    "# Generate 100 random floating-point numbers between 0 and 1.\n",
    "\n",
    "rf = np.random.random(100)\n",
    "print(rf)"
   ]
  },
  {
   "cell_type": "markdown",
   "metadata": {},
   "source": [
    "numpy makes it easy to generate random numbers that follow various distributions (e.g., gaussian, poisson, binomial). Let's generate some and plot histograms of the distributions to see how they look."
   ]
  },
  {
   "cell_type": "code",
   "execution_count": 6,
   "metadata": {
    "collapsed": false
   },
   "outputs": [
    {
     "data": {
      "image/png": "[encoded data removed]",
      "text/plain": [
       "<matplotlib.figure.Figure at 0x1d301435eb8>"
      ]
     },
     "metadata": {},
     "output_type": "display_data"
    },
    {
     "name": "stdout",
     "output_type": "stream",
     "text": [
      "[4 5 6 5 5 5 7 3 6 8 6 5 4 4 5 4 5 3 5 4 5 5 3 3 3 5 6 4 7 6 3 4 4 6 5 4 3\n",
      " 6 5 5 5 0 3 6 4 4 7 4 5 2 7 5 5 6 7 3 6 4 5 5 7 5 4 2 8 3 4 4 2 5 5 1 6 4\n",
      " 4 6 6 5 1 7 6 4 8 5 5 7 7 6 8 5 5 7 6 4 6 5 4 4 7 3]\n"
     ]
    }
   ],
   "source": [
    "import numpy as np\n",
    "import matplotlib.pyplot as plt\n",
    "%matplotlib inline\n",
    "\n",
    "# Generate 100 random numbers from a normal (Gaussian) distribution\n",
    "# with mean 10.0 and standard deviation 0.1.\n",
    "\n",
    "rn = np.random.normal(loc=10.0, scale=0.1, size=10000)\n",
    "\n",
    "# Print them, or plot as a histogram.\n",
    "\n",
    "#print(rn)\n",
    "plt.hist(rn, bins=30)\n",
    "plt.show()\n",
    "\n",
    "# Now try a binomial distribution.\n",
    "\n",
    "rp = np.random.binomial(n=10, p=0.5, size=100)\n",
    "print(rp)\n"
   ]
  },
  {
   "cell_type": "markdown",
   "metadata": {},
   "source": [
    "## Cryptographically secure random numbers\n",
    "\n",
    "Cryptographically secure random numbers are ones which aren't the result of an algorithm, and so their future behaviour can not be guessed by observing a sufficiently long sequence."
   ]
  },
  {
   "cell_type": "code",
   "execution_count": 7,
   "metadata": {
    "collapsed": false
   },
   "outputs": [
    {
     "name": "stdout",
     "output_type": "stream",
     "text": [
      "[1 0 0 1 0 1 0 1 0 0 0 1 0 1 0 1 1 0 1 0 1 1 1 0 0 0 0 0 1 0 0 0 1 0 1 0 0\n",
      " 1 0 1 0 1 0 1 0 1 0 0 1 1 1 1 0 0 1 0 1 0 1 0 1 0 0 0 0 0 0 0 0 1 1 0 0 1\n",
      " 1 0 0 1 1 1]\n"
     ]
    }
   ],
   "source": [
    "import os\n",
    "import numpy\n",
    "\n",
    "# Call the OS for its best random numbers. Very recent versions of\n",
    "# python have a \"secrets\" module for accessing this RNG.\n",
    "\n",
    "b = os.urandom(10)\n",
    "print(np.unpackbits(bytearray(b)))"
   ]
  },
  {
   "cell_type": "markdown",
   "metadata": {},
   "source": [
    "## The Intel hardware random number generator\n",
    "\n",
    "Intel CPUs since at least 2015 have provided an assembly language instruction called RDRAND that returns random numbers, seeded by a hardware source of noise. Operating system developers have been reluctant to use this instruction, since they are worried about possible security backdoors inserted into the CPU by certain 3-letter government agencies."
   ]
  },
  {
   "cell_type": "code",
   "execution_count": null,
   "metadata": {
    "collapsed": true
   },
   "outputs": [],
   "source": []
  }
 ],
 "metadata": {
  "anaconda-cloud": {},
  "kernelspec": {
   "display_name": "Python [conda root]",
   "language": "python",
   "name": "conda-root-py"
  },
  "language_info": {
   "codemirror_mode": {
    "name": "ipython",
    "version": 3
   },
   "file_extension": ".py",
   "mimetype": "text/x-python",
   "name": "python",
   "nbconvert_exporter": "python",
   "pygments_lexer": "ipython3",
   "version": "3.5.2"
  }
 },
 "nbformat": 4,
 "nbformat_minor": 1
}
