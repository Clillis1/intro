{
 "cells": [
  {
   "cell_type": "markdown",
   "metadata": {},
   "source": [
    "# Extracting signal from noise using FFTs\n",
    "\n",
    "If we know, at least roughly, the frequency of our signal of interest, then we can *filter* our data to reduce the effect of noise at different frequencies. An example of a simple filter is a *high pass filter* that selectively removes the signals below a given frequency (and allows the high frequencies through). Such a filter can be implemented electrically using a series capacitor followed by a resistor to ground. We can also do the filtering in frequency space by taking the FFT of the samples and attenuating the signals below a given frequency. An inverse FFT will then reproduce the filtered signal.\n",
    "\n",
    "We can also use *low pass* filters, and combine them with high pass filters to produce *bandpass* filters. The roll-off (the attenuation of a filter with frequency) of a filter is also selectable, and is usually given in db per octave (factor of 2 change in frequency) or per decade. A simple RC filter has a roll-off of 6 db/octave (20 db/decade).\n",
    "\n",
    "One interesting question is where to do the filtering. The simplest approach is to digitize the input signal at high speed and do all the filtering digitally. However, in some cases there is so much noise that it is advantageous to use an analog filter *before* the analog-to-digital converter, so that the ADC range isn't dominated by the noise amplitude. A common situation is searching for small signals that lie on top of a large DC offset. In this case, using an analog high-pass filter will remove the DC offset, and allow the use of many more bits in the ADC for signal.\n",
    "\n",
    "\n",
    "# Lock-in detection\n",
    "\n",
    "Lock-in detection is a very powerful filtering technique that relies on knowing the precise frequency and phase offset of a signal from a reference signal. E.g., if you know that your signal is at 1.0000000 MHz, then you can use this information to filter out noise at any other frequency.\n",
    "\n",
    "Lock-in detection usually works by deliberately multiplying the real signal of interest by a sine wave (or square wave) at a higher frequency than any component in the signal. The higher frequency is chosen to lie in a region where the noise is low. For example, the following figure shows the signal of interest $f_1$ lying in a noisy part of the spectrum; we can use lock-in detection to move the signal to $f_2$, thereby increasing the signal to noise ratio.\n",
    "\n",
    "![](http://mcba11.phys.unsw.edu.au/~mcba/phys3112/fig12_noise_overview.png)\n",
    "\n",
    "The following figure shows a typical experiment using lock-in detection. The light falling on the device under test is modulated at a reference frequency by the chopper. The resultant output and the reference frequency are then fed to a lock-in amplifier that extracts the signal at the reference frequency and phase. To adjust the phase offset, the lock-in amplifier allows you to delay the signal by 90 degrees, and the phase can be adjusted for zero output on a very sensitive scale.\n",
    "\n",
    "![](http://mcba11.phys.unsw.edu.au/~mcba/phys3112/500px-Lock-in_amplifier_experimental_setup.png)\n",
    "\n",
    "Lock-in detection allows tiny signals to be detected in the presence of enormous quantities of noise.\n",
    "\n",
    "The simplest form for a lock-in amplifier is shown in the figure below:\n",
    "\n",
    "![](http://mcba11.phys.unsw.edu.au/~mcba/phys3112/lockin.png)\n",
    "\n",
    "The above design shows the input signal being multiplied by a square wave (+/-1) at the reference frequency. The resulting output is then averaged for many cycles. You should check for yourself what happens if the reference signal is delayed by 90 degrees. You should see that the average output signal is now zero.\n",
    "\n",
    "Better performance is achieved by multiplying by a sine wave rather than a square wave.\n",
    "\n",
    "Twenty years ago lock-in amplifiers were made of discrete analog parts, but nowadays they are implemented digitally, often with FPGAs (Field Programmable Gate Arrays).\n",
    "\n",
    "# Homodyne and heterodyne detection\n",
    "\n",
    "The terms *homodyne* and *heterodyne* detection are commonly used.\n",
    "\n",
    "*Homodyne* detection is the same as lock-in detection, it is where the signal of interest is modulated by a reference frequency, and detected at this same frequency.\n",
    "\n",
    "In *heterodyne* detection, the signal (at a frequency $f_1$) is modulated by a reference frequency $f_2$, and the output comes from detecting the signal at the difference frequency $f_1-f_2$. Heterodyne detection is commonly used to bring a high frequency signal into the range where it can be easily analysed. E.g., in THz astronomy the signals are too high in frequency to be digitized directly, but by mixing the signals with a reference local oscillator signal at a nearby frequency, the signal can be brought down to the GHz regime where digitization is possible.\n",
    "\n",
    "Heterodyne detection uses the same principle as listening to the beat frequency between two audio sources that are close in frequency.\n",
    "\n",
    "\n",
    "# Spread spectrum transmission of radio signals\n",
    "\n",
    "Spread spectrum radio transmission can be thought of as a extension of lock-in detection. Rather than modulating the signal with a fixed frequency sine-wave, spread spectrum works by using a sequence of frequencies selected by a psuedo-random number generator. This has a number of advantages, particularly for military and secure communications, e.g., \n",
    "\n",
    "- the signal is spread over a large bandwidth, making it more immune to interference (or deliberate jamming) at particular frequencies,\n",
    "\n",
    "- unless you know the psuedo-random number generator and the seed, the signal will appear to be noise, and will be very difficult to intercept, or even detect.\n"
   ]
  },
  {
   "cell_type": "code",
   "execution_count": null,
   "metadata": {
    "collapsed": true
   },
   "outputs": [],
   "source": []
  }
 ],
 "metadata": {
  "anaconda-cloud": {},
  "kernelspec": {
   "display_name": "Python [conda root]",
   "language": "python",
   "name": "conda-root-py"
  },
  "language_info": {
   "codemirror_mode": {
    "name": "ipython",
    "version": 3
   },
   "file_extension": ".py",
   "mimetype": "text/x-python",
   "name": "python",
   "nbconvert_exporter": "python",
   "pygments_lexer": "ipython3",
   "version": "3.5.2"
  }
 },
 "nbformat": 4,
 "nbformat_minor": 1
}
