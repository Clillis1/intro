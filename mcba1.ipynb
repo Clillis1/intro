{
 "cells": [
  {
   "cell_type": "markdown",
   "metadata": {},
   "source": [
    "# More examples of Python programs"
   ]
  },
  {
   "cell_type": "markdown",
   "metadata": {},
   "source": [
    "Problem: convert 75.0 degrees to radians, and print the result. You should get\n",
    "1.3089969389957472"
   ]
  },
  {
   "cell_type": "code",
   "execution_count": null,
   "metadata": {
    "collapsed": false
   },
   "outputs": [],
   "source": [
    "# We import numpy to get access to pi.\n",
    "\n",
    "import numpy as np\n",
    "\n",
    "deg = 75.0\n",
    "rad = deg * np.pi / 180.0\n",
    "rad"
   ]
  },
  {
   "cell_type": "markdown",
   "metadata": {},
   "source": [
    "# Complex numbers\n",
    "\n",
    "For some operations with complex numbers, we need to `import cmath`.\n",
    "\n",
    "* to write a complex constant: `3+4j`\n",
    "* to create a complex number from two real variables: `complex(x,y)`\n",
    "* to create a complex number from a string: `complex('3+4j')`\n",
    "* to find the magnitude of a complex number: `abs(z)`\n",
    "* to find the real and imaginary parts of a complex number: `z.real   z.imag`\n",
    "* to express a complex number as a tuple in polar coordinates: `cmath.polar(z)`\n",
    "* to create a complex number from its magnitude and argument: `cmath.rect(r, phi)`\n",
    "* to find the argument of a complex number: `cmath.polar(z)[1]` or `cmath.phase(z)`\n",
    "\n",
    "The following program forms a 3,4,5 right-angled triangle using complex numbers to represent the sides, and explores various aspects of it."
   ]
  },
  {
   "cell_type": "code",
   "execution_count": null,
   "metadata": {
    "collapsed": false
   },
   "outputs": [],
   "source": [
    "import cmath\n",
    "\n",
    "# Input two sides of a 3,4,5 triangle.\n",
    "\n",
    "side1 = 3+0j\n",
    "side2 = 0+4j\n",
    "\n",
    "# Calculate the 3rd side.\n",
    "\n",
    "side3 = side1 + side2\n",
    "\n",
    "# Print the real and imaginary parts of the 3rd side.\n",
    "\n",
    "print(\"the real part of side3 is\", side3.real)\n",
    "print(\"the imaginary part of side3 is\", side3.imag)\n",
    "\n",
    "# Calculate the length of the 3rd side using two different techniques.\n",
    "\n",
    "print(\"the length of side3 is\", abs(side3))\n",
    "print(\"the length of side 3 is also\", (side3.real**2 + side3.imag**2)**0.5)\n",
    "\n",
    "# Calculate the angle of the 3rd side from the horizonatal using two different techniques.\n",
    "\n",
    "print(\"the arg of side3 is\", cmath.polar(side3)[1])\n",
    "print(\"the arg of side3 is also\", np.arctan(side3.imag / side3.real))"
   ]
  },
  {
   "cell_type": "markdown",
   "metadata": {},
   "source": [
    "# An octogon in the complex plane\n",
    "\n",
    "The following code snippet starts at the origin of the complex plane, and traces counterclockwise around an octogon by adding unit-length sides one at a time. It prints the coordinates of the vertices. Note that the final vextex should be back at the origin, but there are slight rounding errors."
   ]
  },
  {
   "cell_type": "code",
   "execution_count": null,
   "metadata": {
    "collapsed": false
   },
   "outputs": [],
   "source": [
    "# Start at the origin.\n",
    "\n",
    "a = 0+0j\n",
    "\n",
    "# Add 8 unit vectors in a row, each rotated by 45 degrees \n",
    "# from the last, thereby producing an octagon\n",
    "\n",
    "for i in range(8):\n",
    "    a += cmath.rect(1.0, i * np.pi / 4)\n",
    "    print(a)"
   ]
  },
  {
   "cell_type": "markdown",
   "metadata": {},
   "source": [
    "# Vector products\n",
    "\n",
    "We are going to find the dot product, cross product, and sum of two 3D vectors.\n",
    "\n",
    "We begin by defining our vectors as lists of 3 numbers (lists are good for this, since they are mutable ordered collections). Then we form the dot and cross products by appropriately combining the elements of the lists.\n",
    "\n",
    "As an alternative, we can use numpy, and define the vectors as numpy arrays, in which case we can use the numpy functions dot and cross to do all the work for us.\n",
    "\n",
    "We also explore the difference between adding lists and adding numpy arrays.\n",
    "\n",
    "In Python there are often many ways of doing things. In general, for Physics applications we prefer to use numpy arrays. Before writing any \"trivial\" function, check to see if it is already available in a library."
   ]
  },
  {
   "cell_type": "code",
   "execution_count": null,
   "metadata": {
    "collapsed": false
   },
   "outputs": [],
   "source": [
    "# Here are our two input vectors, written as Python lists:\n",
    "\n",
    "a = [1.0, 2.0, 3.0]\n",
    "b = [4.0, 5.0, 6.0]\n",
    "\n",
    "# Calculate the dot and cross products the hard way.\n",
    "\n",
    "dot_product = a[0]*b[0] + a[1]*b[1] + a[2]*b[2]\n",
    "\n",
    "cross_product = [a[1]*b[2] - a[2]*b[1],\n",
    "                 a[2]*b[0] - a[0]*b[2],\n",
    "                 a[0]*b[1] - a[1]*b[0]]\n",
    "\n",
    "print(\"the dot product is\", dot_product, \"the cross product is\", cross_product)\n",
    "\n",
    "# What happens when we \"add\" two lists?\n",
    "\n",
    "print(\"a + b is\", a + b)\n",
    "\n",
    "# Now do the same operations using numpy arrays, created from the original lists.\n",
    "\n",
    "a = np.array(a)\n",
    "b = np.array(b)\n",
    "print(\"the dot product is\", np.dot(a, b), \"the cross product is\", np.cross(a, b))\n",
    "print(\"a + b is\", a + b)"
   ]
  },
  {
   "cell_type": "markdown",
   "metadata": {},
   "source": [
    "# Computing means and standard deviations\n",
    "\n",
    "This gives us an opportunity to introduce functions.\n",
    "\n"
   ]
  },
  {
   "cell_type": "code",
   "execution_count": null,
   "metadata": {
    "collapsed": false
   },
   "outputs": [],
   "source": [
    "# Calculate the mean of \"a\". Note that we don't specify what \"a\" is. \n",
    "# For the function to work, \"a\" must be iterable, and have numeric elements.\n",
    "# So it works with lists of numbers, tuples of numbers, and even complex numbers.\n",
    "\n",
    "def mean(a):\n",
    "    sum = 0\n",
    "    for x in a:\n",
    "        sum += x\n",
    "    return sum / len(a)\n",
    "\n",
    "print(mean((1,2,3)))\n",
    "print(mean([1,2,3]))\n",
    "print(mean((1+2j, 2+1j)))\n",
    "\n",
    "# Calculate standard deviations using three different techniques. See the\n",
    "# file stats-notes.pdf in this respository.\n",
    "\n",
    "def stdev0(a):\n",
    "# Using the canonical formula, which requires two passes over the data.\n",
    "\n",
    "    m = mean(a)\n",
    "    sum = 0\n",
    "    for x in a:\n",
    "        sum += (x - m)**2\n",
    "    return (sum / (len(a) - 1))**0.5\n",
    "\n",
    "def stdev1(a):\n",
    "# Using the \"clever\" simplification, requiring only one pass.\n",
    "\n",
    "    sumx = 0\n",
    "    sumxx = 0\n",
    "    for x in a:\n",
    "        sumx += x\n",
    "        sumxx += x**2\n",
    "    return ((sumxx - sumx**2 / len(a)) / (len(a) - 1))**0.5\n",
    "\n",
    "def stdev2(a):\n",
    "# Using the clever technique that corrects for rounding errors.\n",
    "\n",
    "    m = mean(a)\n",
    "    sumx = 0\n",
    "    sumxx = 0\n",
    "    for x in a:\n",
    "        sumx += x - m\n",
    "        sumxx += (x - m)**2\n",
    "    return ((sumxx - sumx**2 / len(a)) / (len(a) - 1))**0.5\n",
    "\n",
    "# Now try the above functions with an example list of three numbers.\n",
    "\n",
    "a = [1, 2, 3]\n",
    "print(\"testing with [1, 2, 3]\")\n",
    "print(stdev0(a))\n",
    "print(stdev1(a))\n",
    "print(stdev2(a))\n",
    "\n",
    "# If we add a constant to each element, the standard deviation should not change.\n",
    "\n",
    "a = [1 + 5e15, 2 + 5e15, 3 + 5e15]\n",
    "print(\"adding 5e15\")\n",
    "print(stdev0(a))\n",
    "print(stdev1(a))\n",
    "print(stdev2(a))\n",
    "\n",
    "# Let's try using the built-in Python function.\n",
    "\n",
    "import statistics\n",
    "print(\"using statistics:\", statistics.stdev(a))\n",
    "\n",
    "# Finally, let's use numpy. Note that numpy standard deviation routine has many\n",
    "# arguments, and you need to specify ddof=1 to get the usual behaviour.\n",
    "\n",
    "b = np.array([1, 2, 3])\n",
    "print(\"using numpy:\", np.std(b, ddof=1))\n",
    "\n",
    "b = np.array([1 + 5e15, 2 + 5e15, 3 + 5e15])\n",
    "print(np.std(b, ddof=1))\n",
    "\n"
   ]
  },
  {
   "cell_type": "code",
   "execution_count": null,
   "metadata": {
    "collapsed": true
   },
   "outputs": [],
   "source": []
  }
 ],
 "metadata": {
  "anaconda-cloud": {},
  "kernelspec": {
   "display_name": "Python [default]",
   "language": "python",
   "name": "python3"
  },
  "language_info": {
   "codemirror_mode": {
    "name": "ipython",
    "version": 3
   },
   "file_extension": ".py",
   "mimetype": "text/x-python",
   "name": "python",
   "nbconvert_exporter": "python",
   "pygments_lexer": "ipython3",
   "version": "3.5.2"
  }
 },
 "nbformat": 4,
 "nbformat_minor": 1
}
