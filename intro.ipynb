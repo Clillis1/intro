{
 "cells": [
  {
   "cell_type": "markdown",
   "metadata": {},
   "source": [
    "# Introducing Python and Jupyter Notebook\n",
    "\n",
    "What you are reading now is an example of a Jupyter Notebook. The basic concept is that of a \"notebook\" containing text and programming code. You can easily edit the notebook, and run the programs and see the output of the programs within the notebook. This is a powerful paradigm that is well suited to physics research, particularly when collaborating with other people.\n",
    "\n",
    "\"Cells\" in a Jupyter Notebook are rectangular areas on the page that contain either text (such as this cell) or Python code (such as the trivial examples in the following few cells).\n",
    "\n",
    "Text cells can be edited by double-clicking within the cell. Code cells can be edited by single clicking within the cell. You can also put text into a code cell as a comment by starting the line with #\n",
    "\n",
    "Pressing shift-ENTER within a text cell will display the text. Pressing shift-ENTER within a code cell with execute the Python code, and display any output below.\n",
    "\n",
    "## The following cells show Python being used as a calculator\n"
   ]
  },
  {
   "cell_type": "code",
   "execution_count": null,
   "metadata": {
    "collapsed": false
   },
   "outputs": [],
   "source": [
    "# This is a comment: python will print the result of whatever \n",
    "# you type into a code cell. It can do mathematics.\n",
    "\n",
    "1 + 1"
   ]
  },
  {
   "cell_type": "code",
   "execution_count": null,
   "metadata": {
    "collapsed": false,
    "scrolled": true
   },
   "outputs": [],
   "source": [
    "# Here we are assigning an intermediate result to a variable \"a\". This\n",
    "# variable will be available in later cells, provided this cell has been run.\n",
    "\n",
    "a = 1 / 7\n",
    "a"
   ]
  },
  {
   "cell_type": "markdown",
   "metadata": {},
   "source": [
    "Note that you have to be careful with integer division. Python version 3 and above will give you a floating-point result, whereas earlier versions remove the decimals (so 1/7 becomes 0, as does 6/7). If you want this so-called \"floor division\" in Python 3, use the \"//\" operator."
   ]
  },
  {
   "cell_type": "code",
   "execution_count": null,
   "metadata": {
    "collapsed": false
   },
   "outputs": [],
   "source": [
    "# Floor division removes the numbers after the decimal point.\n",
    "\n",
    "1 // 7"
   ]
  },
  {
   "cell_type": "code",
   "execution_count": null,
   "metadata": {
    "collapsed": false
   },
   "outputs": [],
   "source": [
    "# Modulo division gives the remainder.\n",
    "\n",
    "8 % 7"
   ]
  },
  {
   "cell_type": "code",
   "execution_count": null,
   "metadata": {
    "collapsed": false
   },
   "outputs": [],
   "source": [
    "# Exponents.\n",
    "\n",
    "2**5"
   ]
  },
  {
   "cell_type": "code",
   "execution_count": null,
   "metadata": {
    "collapsed": false
   },
   "outputs": [],
   "source": [
    "# Scientific notation.\n",
    "\n",
    "3.1E-2"
   ]
  },
  {
   "cell_type": "code",
   "execution_count": null,
   "metadata": {
    "collapsed": false
   },
   "outputs": [],
   "source": [
    "# Python will also evaluate logical statements.\n",
    "\n",
    "1 == 1"
   ]
  },
  {
   "cell_type": "code",
   "execution_count": null,
   "metadata": {
    "collapsed": false
   },
   "outputs": [],
   "source": [
    "1 > 2"
   ]
  },
  {
   "cell_type": "code",
   "execution_count": null,
   "metadata": {
    "collapsed": false
   },
   "outputs": [],
   "source": [
    "# You can use logical operators in if/else statements:\n",
    "\n",
    "b = 8\n",
    "if b > 5:\n",
    "    print('b is greater than five')\n",
    "else:\n",
    "    print('b is less than five')"
   ]
  },
  {
   "cell_type": "code",
   "execution_count": null,
   "metadata": {
    "collapsed": false
   },
   "outputs": [],
   "source": [
    "# The following expression uses all the available logical operators (and, or, not).\n",
    "# Parenthesis are useful to make the meaning clear.\n",
    "\n",
    "((1 < 2) and (2 <= 2) and (1 != 2)) or (2 > 1) or not (2 == 2)"
   ]
  },
  {
   "cell_type": "markdown",
   "metadata": {},
   "source": [
    "## Case sensitivity\n",
    "\n",
    "Python cares whether letters are capitalised. The variables above are called 'a' and 'b', but 'A' and 'B' are entirely different (currently not defined) variables. If you want to read in a file called 'flight_variables.txt' but you ask for 'Flight_Variables.txt', it will not find your file."
   ]
  },
  {
   "cell_type": "code",
   "execution_count": null,
   "metadata": {
    "collapsed": false
   },
   "outputs": [],
   "source": [
    "A"
   ]
  },
  {
   "cell_type": "markdown",
   "metadata": {},
   "source": [
    "## Libraries\n",
    "\n",
    "When you first start up Python, it already has quite a number of tools available. Its *standard library* is pretty large.\n",
    "\n",
    "However, there are a number of mathematical operations and data types that are important for working with data that are not part of the standard library. These were installed as part of Anaconda, and once you *import* them, you can use them.\n",
    "\n",
    "Some libraries have sub-libraries for specific purposes, and you can import just the sub-library if that's all you want.\n",
    "\n",
    "It is good style to do all of your imports in one cell at the start of your notebook."
   ]
  },
  {
   "cell_type": "markdown",
   "metadata": {},
   "source": [
    "# Importing libraries works like this\n",
    "\n",
    "If you want the whole library to be directly available:"
   ]
  },
  {
   "cell_type": "code",
   "execution_count": null,
   "metadata": {
    "collapsed": true
   },
   "outputs": [],
   "source": [
    "import pandas\n",
    "\n",
    "# (pandas is a very useful library of data analysis tools)"
   ]
  },
  {
   "cell_type": "markdown",
   "metadata": {},
   "source": [
    "To avoid lots of typing, you can modify the name of the imported functions, e.g., after the following example we can refer to np.pi rather than numpy.pi."
   ]
  },
  {
   "cell_type": "code",
   "execution_count": null,
   "metadata": {
    "collapsed": true
   },
   "outputs": [],
   "source": [
    "import numpy as np\n",
    "\n",
    "# (numpy is an essential set of mathematical tools)"
   ]
  },
  {
   "cell_type": "code",
   "execution_count": null,
   "metadata": {
    "collapsed": false
   },
   "outputs": [],
   "source": [
    "# Now the routines in numpy can be accessed like this:\n",
    "\n",
    "print(np.pi, np.abs(np.sin(np.pi/3)), np.mean([1,3,5,7,9]))"
   ]
  },
  {
   "cell_type": "markdown",
   "metadata": {},
   "source": [
    "And if you're not sure what routines are available in numpy, or what the one you want is called, Jupyter will show you a list if you type 'np.' and then press the tab key. (this is true for all libraries, not just numpy). NOTE: you must have executed the earlier \"import numpy as np\" cell for this to work here."
   ]
  },
  {
   "cell_type": "code",
   "execution_count": null,
   "metadata": {
    "collapsed": false
   },
   "outputs": [],
   "source": [
    "np."
   ]
  },
  {
   "cell_type": "markdown",
   "metadata": {},
   "source": [
    "You can also import just a sub-library if that's all you need:"
   ]
  },
  {
   "cell_type": "code",
   "execution_count": 1,
   "metadata": {
    "collapsed": true
   },
   "outputs": [],
   "source": [
    "import matplotlib.pyplot as plt\n",
    "\n",
    "# (matplotlib.pyplot is the library you need for almost all plots and figures. It has nearly \n",
    "# endless options).\n",
    "\n",
    "%matplotlib inline\n",
    "\n",
    "# The above command makes your matplotpib.pyplot figures show up in your \n",
    "# notebook, which is generally what you want."
   ]
  },
  {
   "cell_type": "code",
   "execution_count": null,
   "metadata": {
    "collapsed": false
   },
   "outputs": [],
   "source": [
    "plt.plot([1,3,5,7,9],[1,9,25,49,81])"
   ]
  },
  {
   "cell_type": "markdown",
   "metadata": {},
   "source": [
    "# Using \"Markdown\" to enter text and equations\n",
    "\n",
    "Text cells, such as this one, contain normal text such as the words in this sentence, with a few non-alphabetic characters used for special formating such as headings, italics, dot points, and mathematics. \n",
    "\n",
    "The special formatting is called \"Markdown\", and is widely used throughout the internet.\n",
    "\n",
    "Double-click somewhere in this cell to see the Markdown source for the cell. You can then press CTRL-ENTER to process the Markdown into displayed text.\n",
    "\n",
    "Here are some examples of Markdown:\n",
    "\n",
    "# To create a big heading, begin the line with a single hash\n",
    "\n",
    "## More hashes produce \n",
    "\n",
    "### smaller\n",
    "\n",
    "#### and smaller headings\n",
    "\n",
    "* a dot point starts with an asterisk\n",
    "* here is another dot point\n",
    "* **bold text is delimited by double asterisks** like `**this**`\n",
    "* *Italic text uses single asterisks*\n",
    "* **_bold italic_ is delimited by underscores within double asterisks** like `**_this_**`\n",
    "* `monospaced font` is done using backticks\n",
    "\n",
    "Here is some in-line LaTeX for mathematics: $\\pi\\approx3.14159$\n",
    "\n",
    "```\n",
    "If you want a block of text to appear verbatim with a monospaced\n",
    "font, enclose the text with lines containing triple opening single quotes.\n",
    "Note that Markdown processing is suspended in verbatim mode,\n",
    "so you can type $\\pi$ and **bold** and have them displayed without interpretation\n",
    "```\n",
    "\n",
    "Block quotes can be useful, as Richard Feynman said:\n",
    "\n",
    "> For a successful technology, reality must take precedence over public relations,\n",
    "> for Nature cannot be fooled.\n",
    "\n",
    "Hyperlinks are easy, e.g, here is [my homepage](http://www.phys.unsw.edu.au/~mcba).\n",
    "\n",
    "An enumerated list:\n",
    "1. Uno\n",
    "2. Dos\n",
    "3. Tres\n",
    "  1. Indent by two spaces\n",
    "  2. for this effect\n",
    "    1. And another two spaces\n",
    "    2. for another level of indentation\n",
    "    \n",
    "Here is the black body function as a equation on a separate line: $$b_\\nu={2h\\nu^3\\over{c^2}}{1\\over{\\exp\\bigl({h\\nu\\over{kT}}\\bigr)-1}}$$\n",
    "\n",
    "Images can be easily inserted too:\n",
    "\n",
    "![my image](http://www.phys.unsw.edu.au/~mcba/sfdsc06640.jpg)"
   ]
  },
  {
   "cell_type": "markdown",
   "metadata": {},
   "source": [
    "## Data types\n",
    "\n",
    "Python has a rich set of data types, suitable for different situations and purposes."
   ]
  },
  {
   "cell_type": "code",
   "execution_count": null,
   "metadata": {
    "collapsed": false
   },
   "outputs": [],
   "source": [
    "t = 4 # integers\n",
    "a = 1.234 # floating-point numbers\n",
    "b = 1.2 + 3.4j # complex numbers\n",
    "c = 'UNSW is an acronym' # strings; immutable\n",
    "d = [1, 2, 3, ['arbitrary content', 1.2 + 3.4j]] # lists of things; mutable ordered collections of arbitrary objects\n",
    "e = (1, 'red', 1.2 + 3.4j, {}) # tuples; immutable ordered collections of arbitrary objects\n",
    "f = {'red' : 1, 'green' : 2, (1, 2) : 3} # dictionaries; mutable mappings from one \"hashable\" object to another (no concept of order)\n",
    "g = {'a', 'b', 2, (1, 2)} # sets; mutable unordered collections of unique and immutable objects\n",
    "\n",
    "print(t, a, b * 2, c.upper(), d[3], e[3:-1:-1], f['green'], g, 'b' in g)"
   ]
  },
  {
   "cell_type": "markdown",
   "metadata": {},
   "source": [
    "Note the concepts of an object being *mutable* (i.e., able to be changed), and *immutable* (can not be changed). Some data types are ordered (e.g, lists, tuples), but for other data types an order does not make sense (dictionaries, sets). While you might think that a \"dictionary\" should have an order (i.e., alphabetically sorted), the \"words\" in a Python dictionary can be immutable objects such as lists, which don't have an obvious order."
   ]
  },
  {
   "cell_type": "code",
   "execution_count": null,
   "metadata": {
    "collapsed": false
   },
   "outputs": [],
   "source": [
    "# Here we try to alter the first object in the tuple \"e\".\n",
    "# Since tuples are immutable, this fails. \n",
    "\n",
    "e[0] = 1"
   ]
  },
  {
   "cell_type": "code",
   "execution_count": null,
   "metadata": {
    "collapsed": false
   },
   "outputs": [],
   "source": [
    "# Here we alter the mapping of 'red' in the diectionary \"f\". This succeeds since\n",
    "# dictionaries are mutable. Note that when you display the value of \"f\", the order of the\n",
    "# mappings returned is not defined. \n",
    "\n",
    "f['red'] = 3\n",
    "f"
   ]
  },
  {
   "cell_type": "markdown",
   "metadata": {},
   "source": [
    "## Arrays\n",
    "\n",
    "To construct one-dimensional or multidimensional arrays of numbers, you need to use np.array or np.ndarray:"
   ]
  },
  {
   "cell_type": "code",
   "execution_count": null,
   "metadata": {
    "collapsed": false
   },
   "outputs": [],
   "source": [
    "# A 1D array.\n",
    "\n",
    "np.array([8,7,6,5,4,3,2])"
   ]
  },
  {
   "cell_type": "code",
   "execution_count": null,
   "metadata": {
    "collapsed": false
   },
   "outputs": [],
   "source": [
    "# A 2D array.\n",
    "\n",
    "np.array([[1,2,3,4,5], [1,4,9,16,25], [1,16,81,256,525]])"
   ]
  },
  {
   "cell_type": "markdown",
   "metadata": {},
   "source": [
    "You can convert a list of numbers into a numpy array, which allows you to do mathematical operations on it:"
   ]
  },
  {
   "cell_type": "code",
   "execution_count": null,
   "metadata": {
    "collapsed": false
   },
   "outputs": [],
   "source": [
    "list = [17,13,11,7,5,3,2]\n",
    "arr = np.array(list)\n",
    "print(arr, arr**2)"
   ]
  },
  {
   "cell_type": "markdown",
   "metadata": {},
   "source": [
    "You can also generate an array of all zeroes, all ones, all integers from zero to n-1, or n points between two limits:"
   ]
  },
  {
   "cell_type": "code",
   "execution_count": null,
   "metadata": {
    "collapsed": false
   },
   "outputs": [],
   "source": [
    "# A 3x3 identity matrix.\n",
    "\n",
    "np.eye(3,3)"
   ]
  },
  {
   "cell_type": "code",
   "execution_count": null,
   "metadata": {
    "collapsed": false
   },
   "outputs": [],
   "source": [
    "# A 2x3 array of zeroes.\n",
    "\n",
    "np.zeros((2,3))"
   ]
  },
  {
   "cell_type": "code",
   "execution_count": null,
   "metadata": {
    "collapsed": false
   },
   "outputs": [],
   "source": [
    "# A 5x2 array of ones.\n",
    "\n",
    "np.ones((5,2))"
   ]
  },
  {
   "cell_type": "code",
   "execution_count": null,
   "metadata": {
    "collapsed": false
   },
   "outputs": [],
   "source": [
    "# A 1D array of the intergers from 0 to 9.\n",
    "\n",
    "np.arange(10)"
   ]
  },
  {
   "cell_type": "code",
   "execution_count": null,
   "metadata": {
    "collapsed": false
   },
   "outputs": [],
   "source": [
    "# A 1D array of 21 floating-point numbers linearly spaced from 30 to 40.\n",
    "\n",
    "np.linspace(30,40,21)"
   ]
  },
  {
   "cell_type": "code",
   "execution_count": null,
   "metadata": {
    "collapsed": false
   },
   "outputs": [],
   "source": [
    "# A 3x3 array of normally distributed random numbers, \n",
    "# with mean 0.0 and standard deviation 1.0. This is a great\n",
    "# example of the power of Python.\n",
    "\n",
    "np.random.normal(0.0, 1.0, (3,3))"
   ]
  },
  {
   "cell_type": "markdown",
   "metadata": {},
   "source": [
    "## Indexing and slicing\n",
    "\n",
    "With ordered data types like lists and arrays, you can retrieve subsets by their *index*: where they are in the list or array. python indexing starts at zero."
   ]
  },
  {
   "cell_type": "code",
   "execution_count": null,
   "metadata": {
    "collapsed": false
   },
   "outputs": [],
   "source": [
    "# We start with \"arr\" as defined above.\n",
    "\n",
    "arr"
   ]
  },
  {
   "cell_type": "code",
   "execution_count": null,
   "metadata": {
    "collapsed": false
   },
   "outputs": [],
   "source": [
    "arr[0]\n",
    "# element 0 is the first element in the array"
   ]
  },
  {
   "cell_type": "code",
   "execution_count": null,
   "metadata": {
    "collapsed": false
   },
   "outputs": [],
   "source": [
    "arr[4]"
   ]
  },
  {
   "cell_type": "code",
   "execution_count": null,
   "metadata": {
    "collapsed": false
   },
   "outputs": [],
   "source": [
    "arr[-1]\n",
    "# this gives you the last element"
   ]
  },
  {
   "cell_type": "markdown",
   "metadata": {},
   "source": [
    "When you select a range of indices from i to j, Python gives you back elements i through j-1:"
   ]
  },
  {
   "cell_type": "code",
   "execution_count": null,
   "metadata": {
    "collapsed": false
   },
   "outputs": [],
   "source": [
    "arr[0:1]\n",
    "# square brackets are required for selecting a subset"
   ]
  },
  {
   "cell_type": "code",
   "execution_count": null,
   "metadata": {
    "collapsed": false
   },
   "outputs": [],
   "source": [
    "arr[3:5]"
   ]
  },
  {
   "cell_type": "markdown",
   "metadata": {},
   "source": [
    "If you want to select all the way to one end of the array, you can leave that part blank and python will understand what you mean:"
   ]
  },
  {
   "cell_type": "code",
   "execution_count": null,
   "metadata": {
    "collapsed": false
   },
   "outputs": [],
   "source": [
    "arr[2:]"
   ]
  },
  {
   "cell_type": "code",
   "execution_count": null,
   "metadata": {
    "collapsed": false
   },
   "outputs": [],
   "source": [
    "arr[:4]"
   ]
  },
  {
   "cell_type": "markdown",
   "metadata": {},
   "source": [
    "Selecting subsets works in multiple dimensions too:"
   ]
  },
  {
   "cell_type": "code",
   "execution_count": null,
   "metadata": {
    "collapsed": false
   },
   "outputs": [],
   "source": [
    "arr2 = np.array([[0,1,2], [3,4,5], [6,7,8]])\n",
    "arr2"
   ]
  },
  {
   "cell_type": "code",
   "execution_count": null,
   "metadata": {
    "collapsed": false
   },
   "outputs": [],
   "source": [
    "arr2[0,:]"
   ]
  },
  {
   "cell_type": "code",
   "execution_count": null,
   "metadata": {
    "collapsed": false
   },
   "outputs": [],
   "source": [
    "arr2[:,1]"
   ]
  },
  {
   "cell_type": "code",
   "execution_count": null,
   "metadata": {
    "collapsed": false
   },
   "outputs": [],
   "source": [
    "arr2[2,1:4]"
   ]
  },
  {
   "cell_type": "markdown",
   "metadata": {},
   "source": [
    "## Loops\n",
    "\n",
    "If you want to re-run a piece of code while changing an input variable, a *for* loop is what you want. If you want to repeat a piece of code until a certain condition is met, use a *while* loop. Loops can be nested inside other loops."
   ]
  },
  {
   "cell_type": "markdown",
   "metadata": {},
   "source": [
    "## Indentation\n",
    "\n",
    "Python pays attention to whether your code is indented. Indentation by one tab is required inside a loop or an if statement. Jupyter will automatically indent text after a line with 'for', 'while', 'if', 'else' in it. Going back to no indentation indicates that the loop or if statement is finished; there is no 'end if' or 'end for' as there is in some languages."
   ]
  },
  {
   "cell_type": "code",
   "execution_count": null,
   "metadata": {
    "collapsed": false
   },
   "outputs": [],
   "source": [
    "for i in range(0,10):\n",
    "    h=(i*3)+7\n",
    "    print(h)"
   ]
  },
  {
   "cell_type": "markdown",
   "metadata": {},
   "source": [
    "Like when we were selecting a subset, a *for* loop that starts with \"for i in range(min,max):\" goes from i = min to i = max - 1."
   ]
  },
  {
   "cell_type": "code",
   "execution_count": null,
   "metadata": {
    "collapsed": false
   },
   "outputs": [],
   "source": [
    "starlist=['Betelgeuse', 'Sirius', 'Canopus', 'Aldebaran']\n",
    "for star in starlist:\n",
    "    print(star,'is bright')"
   ]
  },
  {
   "cell_type": "markdown",
   "metadata": {},
   "source": [
    "Note that the above \"for item in list:\" syntax is different to the \"for i in range(min,max):\" syntax in the previous example. \"star\" didn't exist as a variable when we wrote \"for star in starlist\", but python recognizes the structure of the *for* loop and makes it work."
   ]
  },
  {
   "cell_type": "code",
   "execution_count": null,
   "metadata": {
    "collapsed": false
   },
   "outputs": [],
   "source": [
    "i = 0\n",
    "while np.sqrt(i) < 5:\n",
    "    print(i)\n",
    "    i = i + 4"
   ]
  },
  {
   "cell_type": "markdown",
   "metadata": {},
   "source": [
    "## Building lists with loops\n",
    "\n",
    "One of the handiest things to do with a loop is to build a list one item at a time. That list can then be converted into a numpy array, so that you can do math with it."
   ]
  },
  {
   "cell_type": "code",
   "execution_count": null,
   "metadata": {
    "collapsed": false
   },
   "outputs": [],
   "source": [
    "# create an empty list called 'luminosity'\n",
    "luminosity=[]\n",
    "\n",
    "#Stefan-Boltzmann constant (in cgs)\n",
    "sigma=5.6704E-5\n",
    "\n",
    "# this is our set of input values for temperature\n",
    "T=[3000.0,3500.0,4200.0,5000.0,6200.0,7500.0]\n",
    "\n",
    "# this is our set of input values for radius (in cgs)\n",
    "r=[5.0E9,1.5E14,1.1E11,1.4E11,3.0E12,6.0E12]\n",
    "\n",
    "#loop over every element in T\n",
    "for i in range(0,len(T)):\n",
    "    luminosity.append(4*np.pi*r[i]**2*sigma*T[i]**4)\n",
    "\n",
    "lumvec=np.array(luminosity)\n",
    "print(lumvec)\n",
    "\n",
    "# list.append() is a \"method\" that can be used on any list - we will talk about methods more \n",
    "# in the demo notebook for Lecture 1."
   ]
  },
  {
   "cell_type": "markdown",
   "metadata": {},
   "source": [
    "## Here are some example calculations, loops and plots:\n",
    "The first one calculate the flux from a black body at a particular wavelength."
   ]
  },
  {
   "cell_type": "code",
   "execution_count": 29,
   "metadata": {
    "collapsed": false
   },
   "outputs": [
    {
     "name": "stdout",
     "output_type": "stream",
     "text": [
      "bb =  1.0336123927084526e-20  W m-2 sr-2 Hz-1\n",
      "bb =  24.29742342991191  uJy per sq arcsecond\n"
     ]
    }
   ],
   "source": [
    "import math\n",
    "import numpy as np\n",
    "\n",
    "# Fundamental constants, in SI units.\n",
    "\n",
    "planck = 6.626e-34\n",
    "boltzmann = 1.381e-23\n",
    "c = 2.998e8\n",
    "\n",
    "# Input variables.\n",
    "\n",
    "wavelength = 2.35e-6 # 2.35 microns, in the near infrared\n",
    "t = 273.15 - 60\n",
    "\n",
    "# Derived variables.\n",
    "\n",
    "nu = c / wavelength\n",
    "\n",
    "# The black-body formula.\n",
    "\n",
    "bb = (2 * planck * nu**3)/(c**2 * (math.exp((planck * nu)/(boltzmann * t)) - 1.0))\n",
    "\n",
    "print(\"bb = \", bb, \" W m-2 sr-2 Hz-1\")\n",
    "\n",
    "# Convert to \"radio astronomer's units\" using Jansky = 1E-26 W m-2 Hz-1, and the\n",
    "# steradian is 4.254E10 square arcseconds.\n",
    "\n",
    "bb *= 1.0E6 / (4.254E10 * 1.0e-26)\n",
    "print(\"bb = \", bb, \" uJy per sq arcsecond\")\n"
   ]
  },
  {
   "cell_type": "markdown",
   "metadata": {},
   "source": [
    "Note that you must have executed the previous cell for the next one to work"
   ]
  },
  {
   "cell_type": "code",
   "execution_count": 23,
   "metadata": {
    "collapsed": false,
    "scrolled": true
   },
   "outputs": [
    {
     "data": {
      "image/png": "[encoded data removed]",
      "text/plain": [
       "<matplotlib.figure.Figure at 0x1d38941dbe0>"
      ]
     },
     "metadata": {},
     "output_type": "display_data"
    }
   ],
   "source": [
    "# Plot the planck function as a function of wavelength, for a given temperature.\n",
    "\n",
    "t = 273.15 -60\n",
    "wavelength = np.arange(2e-6, 5.5e-6, 0.01e-6)\n",
    "t = 273.15+ np.arange(-65, -12, 1)\n",
    "wavelength = 2.4e-6\n",
    "nu = c / wavelength\n",
    "\n",
    "bb = (2 * planck * nu**3)/(c**2 * (np.exp((planck * nu)/(boltzmann * t)) - 1.0))\n",
    "wavelength = 5e-6\n",
    "nu = c / wavelength\n",
    "bb2 = (2 * planck * nu**3)/(c**2 * (np.exp((planck * nu)/(boltzmann * t)) - 1.0))\n",
    "\n",
    "plt.plot(t, bb/bb2)\n",
    "plt.show()"
   ]
  },
  {
   "cell_type": "code",
   "execution_count": null,
   "metadata": {
    "collapsed": false
   },
   "outputs": [],
   "source": [
    "# This example models (crudely) the temperature of the earth as it reaches equilibrium with the \n",
    "# radiation from the sun.\n",
    "\n",
    "import matplotlib.pyplot as plt\n",
    "\n",
    "nSteps = int(input(\"\"))\n",
    "\n",
    "timeStep = 100           # years\n",
    "waterDepth = 4000        # meters\n",
    "L = 1350                 # Watts/m2\n",
    "heatCapacity = 1.6884E10 # J/K m2\n",
    "albedo = 0.3\n",
    "epsilon = 1\n",
    "sigma = 5.67E-8          # W/m2 K4\n",
    "\n",
    "time = [0]\n",
    "T = [0]\n",
    "heatContent = T[0] * heatCapacity\n",
    "\n",
    "for i in range(0, nSteps):\n",
    "    heatContent += (L * (1 - albedo) / 4 - epsilon * sigma * pow(T[-1], 4)) * timeStep * 365.25 * 24 * 3600\n",
    "    T.append(heatContent / heatCapacity)\n",
    "    time.append(time[-1] + timeStep)\n",
    "    heatOut = sigma * pow(T[-1], 4)\n",
    "\n",
    "#print(T[-1], heatOut)\n",
    "plt.plot(time, T)\n",
    "plt.show()"
   ]
  },
  {
   "cell_type": "markdown",
   "metadata": {
    "collapsed": true
   },
   "source": [
    "# Physical constants\n",
    "\n",
    "Every conceivable physical constant (their value, units, and uncertainty!) is defined for you in a dictionary in scipy.constants. For example:"
   ]
  },
  {
   "cell_type": "code",
   "execution_count": 5,
   "metadata": {
    "collapsed": false
   },
   "outputs": [
    {
     "name": "stdout",
     "output_type": "stream",
     "text": [
      "(6.235380085e-65, 'C^4 m^4 J^-3', 7.7e-73)\n",
      "(5.670367e-08, 'W m^-2 K^-4', 1.3e-13)\n"
     ]
    }
   ],
   "source": [
    "import scipy.constants\n",
    "\n",
    "print(scipy.constants.physical_constants['atomic unit of 2nd hyperpolarizability'])\n",
    "print(scipy.constants.physical_constants['Stefan-Boltzmann constant'])"
   ]
  }
 ],
 "metadata": {
  "anaconda-cloud": {},
  "kernelspec": {
   "display_name": "Python [default]",
   "language": "python",
   "name": "python3"
  },
  "language_info": {
   "codemirror_mode": {
    "name": "ipython",
    "version": 3
   },
   "file_extension": ".py",
   "mimetype": "text/x-python",
   "name": "python",
   "nbconvert_exporter": "python",
   "pygments_lexer": "ipython3",
   "version": "3.5.2"
  }
 },
 "nbformat": 4,
 "nbformat_minor": 0
}
