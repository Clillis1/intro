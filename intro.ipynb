{
 "cells": [
  {
   "cell_type": "markdown",
   "metadata": {},
   "source": [
    "# A brief tutorial introducing python and Jupyter Notebook\n",
    "\n",
    "This webpage is an example of a Jupyter Notebook. The basic concept is that of a \"notebook\" containing text and programming code. You can easily edit the notebook, and run the programs and see the output of the programs within the notebook. This is a powerful paradigm that is well suited to physics research, particularly when collaborating with other people.\n",
    "\n",
    "\"Cells\" in a Jupyter Notebook are rectangular areas on the page that contain either text (such as this cell) or python code (such as the trivial examples in the following few cells).\n",
    "\n",
    "Text cells can be edited by double-clicking within the cell. Code cells can be edited by single clicking within the cell.\n",
    "\n",
    "Pressing CTRL-ENTER within a text cell will display the text. Pressing CTRL-ENTER within a code cell with execute the python code, and display any output below.\n"
   ]
  },
  {
   "cell_type": "code",
   "execution_count": 2,
   "metadata": {
    "collapsed": false
   },
   "outputs": [
    {
     "data": {
      "text/plain": [
       "2"
      ]
     },
     "execution_count": 2,
     "metadata": {},
     "output_type": "execute_result"
    }
   ],
   "source": [
    "1 + 1"
   ]
  },
  {
   "cell_type": "code",
   "execution_count": 3,
   "metadata": {
    "collapsed": false,
    "scrolled": true
   },
   "outputs": [
    {
     "name": "stdout",
     "output_type": "stream",
     "text": [
      "0.14285714285714285\n"
     ]
    },
    {
     "data": {
      "text/plain": [
       "0.14285714285714285"
      ]
     },
     "execution_count": 3,
     "metadata": {},
     "output_type": "execute_result"
    }
   ],
   "source": [
    "a = 1/7\n",
    "print(a)"
   ]
  },
  {
   "cell_type": "code",
   "execution_count": 3,
   "metadata": {
    "collapsed": false,
    "scrolled": true
   },
   "outputs": [
    {
     "name": "stdout",
     "output_type": "stream",
     "text": [
      "-0.9880316240928618\n",
      "0.49999999999999994\n"
     ]
    }
   ],
   "source": [
    "import math\n",
    "\n",
    "print(math.sin(30))\n",
    "print(math.sin(30 * math.pi / 180))"
   ]
  },
  {
   "cell_type": "markdown",
   "metadata": {},
   "source": [
    "# Using \"Markdown\" to enter text and equations\n",
    "\n",
    "Text cells, such as this one, contain normal text such as the words in this sentence, with a few non-alphabetic characters used for special formating such as headings, italics, dot points, and mathematics. \n",
    "\n",
    "The special formatting is called \"Markdown\".\n",
    "\n",
    "Double-click somewhere in this cell to see the Markdown source for the cell. You can then press CTRL-ENTER to process the Markdown into displayed text.\n",
    "\n",
    "Here are some examples of Markdown:\n",
    "\n",
    "# To create a big heading, begin the line with a single hash\n",
    "\n",
    "## More hashes produce \n",
    "\n",
    "### smaller\n",
    "\n",
    "#### and smaller headings\n",
    "\n",
    "* a dot point starts with an asterisk\n",
    "* here is another dot point\n",
    "* **bold text is delimited by double asterisks** like `**this**`\n",
    "* *Italic text uses single asterisks*\n",
    "* **_bold italic_ is delimited by underscores within double asterisks** like `**_this_**`\n",
    "\n",
    "Here is some in-line LaTeX for mathematics: $\\pi\\approx3.14159$\n",
    "\n",
    "```\n",
    "If you want a block of text to appear verbatim with a monospaced\n",
    "font, enclose the text with lines containing triple opening single quotes.\n",
    "Note that Markdown processing is suspended in verbatim mode,\n",
    "so you can type $\\pi$ and **bold** and have them displayed without interpretation\n",
    "```\n",
    "\n",
    "Block quotes can be useful, as Richard Feynman said:\n",
    "\n",
    "> For a successful technology, reality must take precedence over public relations,\n",
    "> for Nature cannot be fooled.\n",
    "\n",
    "Hyperlinks are easy, e.g, here is [my homepage](http://www.phys.unsw.edu.au/~mcba).\n",
    "\n",
    "An enumerated list:\n",
    "1. Uno\n",
    "2. Dos\n",
    "3. Tres\n",
    "  1. Indent by two spaces\n",
    "  2. for this effect\n",
    "    1. And another two spaces\n",
    "    2. for another level of indentation\n",
    "    \n",
    "Here is the black body function as a equation on a separate line: $$b_\\nu={2h\\nu^3\\over{c^2}}{1\\over{\\exp\\bigl({h\\nu\\over{kT}}\\bigr)-1}}$$\n",
    "\n",
    "Images can be easily inserted too:\n",
    "\n",
    "![my image](http://www.phys.unsw.edu.au/~mcba/sfdsc06640.jpg)"
   ]
  },
  {
   "cell_type": "code",
   "execution_count": 4,
   "metadata": {
    "collapsed": false
   },
   "outputs": [
    {
     "name": "stdout",
     "output_type": "stream",
     "text": [
      "bb =  1.2139154530564587e-19  W m-2 sr-2 Hz-1\n",
      "bb =  285.3585926319837  uJy per sq arcsecond\n"
     ]
    }
   ],
   "source": [
    "import math\n",
    "\n",
    "# Fundamental constants.\n",
    "\n",
    "planck = 6.626e-34\n",
    "boltzmann = 1.381e-23\n",
    "c = 2.998e8\n",
    "\n",
    "# Input variables.\n",
    "\n",
    "wavelength = 2.35e-6\n",
    "t = 273.15 - 40\n",
    "\n",
    "# Derived variables.\n",
    "\n",
    "nu = c / wavelength\n",
    "\n",
    "# The black-body formula.\n",
    "\n",
    "bb = (2 * planck * nu**3)/(c**2 * (math.exp((planck * nu)/(boltzmann * t)) - 1.0))\n",
    "\n",
    "print(\"bb = \", bb, \" W m-2 sr-2 Hz-1\")\n",
    "\n",
    "# Convert to \"astronomer's units\" using Jansky = 1E-26 W m-2 Hz-1, and the\n",
    "# steradian is 4.254E10 square arcseconds.\n",
    "\n",
    "bb *= 1.0E6 / (4.254E10 * 1.0e-26)\n",
    "print(\"bb = \", bb, \" uJy per sq arcsecond\")\n"
   ]
  },
  {
   "cell_type": "code",
   "execution_count": 6,
   "metadata": {
    "collapsed": false,
    "scrolled": true
   },
   "outputs": [
    {
     "data": {
      "image/png": "[encoded data removed]",
      "text/plain": [
       "<matplotlib.figure.Figure at 0x1edd8941898>"
      ]
     },
     "metadata": {},
     "output_type": "display_data"
    }
   ],
   "source": [
    "import numpy as np\n",
    "import matplotlib.pyplot as plt\n",
    "\n",
    "t = 5800.0\n",
    "wavelength = np.arange(0.3e-6, 10e-6, 0.01e-6)\n",
    "\n",
    "nu = c / wavelength\n",
    "\n",
    "bb = (2 * planck * nu**3)/(c**2 * (np.exp((planck * nu)/(boltzmann * t)) - 1.0))\n",
    "\n",
    "plt.plot(wavelength, bb)\n",
    "plt.show()"
   ]
  },
  {
   "cell_type": "markdown",
   "metadata": {},
   "source": [
    "Some of the power of python comes from its rich set of data types, as shown in the cell below."
   ]
  },
  {
   "cell_type": "code",
   "execution_count": 7,
   "metadata": {
    "collapsed": false
   },
   "outputs": [
    {
     "name": "stdout",
     "output_type": "stream",
     "text": [
      "1.234 (2.4+6.8j) SCIF IS AN ACRONYM ['arbitrary content', (1.2+3.4j)] () 2 {(1, 2), 2, 'b', 'a'} True\n"
     ]
    }
   ],
   "source": [
    "a = 1.234 # numbers\n",
    "b = 1.2 + 3.4j # complex numbers\n",
    "c = 'SCIF is an acronym' # strings; immutable\n",
    "d = [1, 2, 3, ['arbitrary content', 1.2 + 3.4j]] # lists of things; mutable ordered collections of arbitrary objects\n",
    "e = (1, 'red', 1.2 + 3.4j, {}) # tuples; immutable ordered collections of arbitrary objects\n",
    "f = {'red' : 1, 'green' : 2} # dictionaries; mutable mappings (no concept of order)\n",
    "g = {'a', 'b', 2, (1, 2)} # sets; mutable unordered collections of unique and immutable objects\n",
    "\n",
    "print(a, b * 2, c.upper(), d[3], e[3:-1:-1], f['green'], g, 'b' in g)"
   ]
  },
  {
   "cell_type": "markdown",
   "metadata": {},
   "source": [
    "Note the concepts of \"mutable\" (i.e., object that can be changed), and \"immutable\" (object that can not be changed). Some data types are ordered (e.g, lists, tuples), but for other data types an order doesn't make sense (dictionaries, sets). The ordered data types can be accessed by an index (counting from zero; or negative if measured from the end of the collection), which can be a simple number or a \"slice\"."
   ]
  },
  {
   "cell_type": "code",
   "execution_count": 3,
   "metadata": {
    "collapsed": false
   },
   "outputs": [
    {
     "name": "stdout",
     "output_type": "stream",
     "text": [
      "10\n"
     ]
    },
    {
     "data": {
      "image/png": "[encoded data removed]",
      "text/plain": [
       "<matplotlib.figure.Figure at 0x299d8fc9080>"
      ]
     },
     "metadata": {},
     "output_type": "display_data"
    }
   ],
   "source": [
    "import matplotlib.pyplot as plt\n",
    "\n",
    "nSteps = int(input(\"\"))\n",
    "\n",
    "timeStep = 100           # years\n",
    "waterDepth = 4000        # meters\n",
    "L = 1350                 # Watts/m2\n",
    "heatCapacity = 1.6884E10 # J/K m2\n",
    "albedo = 0.3\n",
    "epsilon = 1\n",
    "sigma = 5.67E-8          # W/m2 K4\n",
    "\n",
    "time = [0]\n",
    "T = [0]\n",
    "heatContent = T[0] * heatCapacity\n",
    "\n",
    "for i in range(0, nSteps):\n",
    "    heatContent += (L * (1 - albedo) / 4 - epsilon * sigma * pow(T[-1], 4)) * timeStep * 365.25 * 24 * 3600\n",
    "    T.append(heatContent / heatCapacity)\n",
    "    time.append(time[-1] + timeStep)\n",
    "    heatOut = sigma * pow(T[-1], 4)\n",
    "\n",
    "#print(T[-1], heatOut)\n",
    "plt.plot(time, T)\n",
    "plt.show()"
   ]
  }
 ],
 "metadata": {
  "anaconda-cloud": {},
  "kernelspec": {
   "display_name": "Python [default]",
   "language": "python",
   "name": "python3"
  },
  "language_info": {
   "codemirror_mode": {
    "name": "ipython",
    "version": 3
   },
   "file_extension": ".py",
   "mimetype": "text/x-python",
   "name": "python",
   "nbconvert_exporter": "python",
   "pygments_lexer": "ipython3",
   "version": "3.5.2"
  }
 },
 "nbformat": 4,
 "nbformat_minor": 0
}
