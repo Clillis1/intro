{
 "cells": [
  {
   "cell_type": "markdown",
   "metadata": {
    "nbpresent": {
     "id": "38270941-7363-450c-8faf-e30f21ee01a9"
    }
   },
   "source": [
    "# Numerical integration of ODEs\n",
    "\n",
    "NOTE: there is a bug in displaying Juptyer notebooks on github with some browsers. This can result in missing mathematical expressions. So, for best results, read this document on a computer running Juptyer notebook software.\n",
    "\n",
    "## Simple harmonic motion\n",
    "\n",
    "![](http://mcba11.phys.unsw.edu.au/~mcba/phys3112/spring.png)\n",
    "Consider a horizontal spring attached to a mass sliding on a frictionless table. The spring is extended and let go. The motion will be simple harmonic given by solving Newton's Second Law of motion:\n",
    "\n",
    "$$ma=-kx$$\n",
    "\n",
    "or, rewriting in a standard form for an ODE (ordinary differential equation):\n",
    "\n",
    "$$\\ddot{x}+{k\\over m}x=0$$\n",
    "\n",
    "or even better as\n",
    "\n",
    "$$\\ddot{x}+\\omega^2x=0$$\n",
    "\n",
    "where $\\omega=\\sqrt{k/m}$. This is better in the sense that it makes it explicit that the coefficient of $x$ is positive, and, as we shall see shortly, $\\omega$ is the angular frequency of the motion.\n",
    "\n",
    "ASIDE: *ordinary* DE's are ones that involve a single independent variable (in our case time, $t$), as opposed to partial DE's that contain more than one independent variable. Furthermore, since this ODE only includes $x$ to the first power or the zeroth power, it is *linear*, meaning that any linear combination of solutions is also a solution. Finally, it is *homogenous*, meaning that the RHS is zero (there is no forcing function).\n",
    "\n",
    "The general solution to the above equation is:\n",
    "\n",
    "$$x=c_0\\cos({\\omega t})+c_1\\sin({\\omega t})$$\n",
    "\n",
    "where $c_0$ and $c_1$ are constants that are constrained by the initial conditions ($x$ and $\\dot{x}$ at $t=0$) of the experiment.\n",
    "\n",
    "For example, suppose we have a mass of 1.23 kg, a spring with constant 3.00 N/m, an initial extension of 0.1 m, and an initial velocity of zero. In this case $c_0$ is 0.1 and $c_1$ is zero.\n",
    "\n",
    "The following snippet will plot the first 60 seconds of motion.\n",
    "\n"
   ]
  },
  {
   "cell_type": "code",
   "execution_count": null,
   "metadata": {
    "collapsed": false,
    "nbpresent": {
     "id": "5cba4d27-79f6-4dfb-9665-effa710a5a21"
    }
   },
   "outputs": [],
   "source": [
    "import numpy as np\n",
    "import matplotlib.pyplot as plt\n",
    "%matplotlib inline\n",
    "\n",
    "# Parameters.\n",
    "\n",
    "k = 3.00\n",
    "m = 12.23\n",
    "w = (k/m)**0.5\n",
    "\n",
    "# Specify the times at which we want to evaluate the system.\n",
    "\n",
    "t = np.array(np.arange(0, 60.0, 0.05))\n",
    "\n",
    "# Solve the ODE for the position of the mass.\n",
    "\n",
    "x = 0.1 * np.cos(w*t)\n",
    "\n",
    "plt.plot(t, x)\n",
    "plt.xlabel(\"Time [seconds]\")\n",
    "plt.ylabel(\"Displacement [metres]\")\n",
    "plt.show()"
   ]
  },
  {
   "cell_type": "markdown",
   "metadata": {
    "nbpresent": {
     "id": "742d8688-26af-4b63-8eef-16358a5bc6af"
    }
   },
   "source": [
    "Eyeballing the graph shows that the period is about $T=56/14=4.0$ s, which gives an angular frequency of $\\omega=2\\pi/T=1.57$, which agrees nicely with $\\sqrt{k/m}=1.56$. No surprises there. \n",
    "\n",
    "Note how easy it is with numpy to operate on vectors (the array of times).\n",
    "\n",
    "## Solving the simple harmonic motion by brute force\n",
    "\n",
    "Now let's suppose that we don't have the mathematical chops to solve this ODE analytically. Instead, we are going to brute force it using a computer. We will start with the naivest possible technique, which is to numerically integrate the equation of motion from one time step to the next by assuming the velocity remains constant over the time step. In mathematical form, we are doing the following:\n",
    "\n",
    "$$\\ddot{x}_i=-{k\\over m}x_i$$\n",
    "\n",
    "$$x_{i+1}=x_i+\\dot{x}_i\\Delta t$$\n",
    "\n",
    "$$\\dot{x}_{i+1}=\\dot{x}_i+\\ddot{x}_i\\Delta t$$\n",
    "\n",
    "And here is the Python code to do this:"
   ]
  },
  {
   "cell_type": "code",
   "execution_count": null,
   "metadata": {
    "collapsed": false,
    "nbpresent": {
     "id": "c200a0aa-def4-40a1-adc3-7a54255bfe53"
    }
   },
   "outputs": [],
   "source": [
    "import numpy as np\n",
    "import matplotlib.pyplot as plt\n",
    "%matplotlib inline\n",
    "\n",
    "# Define the spring constant and mass.\n",
    "\n",
    "k = 3.00\n",
    "m = 1.23\n",
    "\n",
    "# Choose the time step, and generate the array of time values.\n",
    "\n",
    "dt = 0.01\n",
    "t = np.array(np.arange(0, 60.0, dt))\n",
    "\n",
    "# Set the initial position and velocity, and \n",
    "# initialise the array of positions.\n",
    "\n",
    "x = 0.1\n",
    "x_dot = 0.0\n",
    "x_arr = []\n",
    "\n",
    "# Now step from one time to the next, updating the position, \n",
    "# velocity, and acceleration.\n",
    "\n",
    "for time in t:\n",
    "\n",
    "    # Add the current position to the array of positions.\n",
    "    \n",
    "    x_arr.append(x)\n",
    "    \n",
    "    # Calculate the acceleration from the ODE.\n",
    "    \n",
    "    x_double_dot = -(k / m) * x\n",
    "    \n",
    "    # Update the position and velocity to the end of this time step.\n",
    "    \n",
    "    x += x_dot * dt\n",
    "    x_dot += x_double_dot * dt\n",
    "\n",
    "plt.plot(t, x_arr)\n",
    "plt.xlabel(\"Time [seconds]\")\n",
    "plt.ylabel(\"Displacement [metres]\")\n",
    "plt.show()\n"
   ]
  },
  {
   "cell_type": "markdown",
   "metadata": {
    "nbpresent": {
     "id": "6824702c-de9d-4466-8746-19a23ac9acac"
    }
   },
   "source": [
    "Hm... while the initial cycle looks OK, and the period is right, the amplitude is increasing with time, which is clearly non-physical. This is a common problem with the Euler method (the one we have used). The figure below shows how the Euler method diverges from a curved path (which is the correct solution).\n",
    "\n",
    "![](http://mcba11.phys.unsw.edu.au/~mcba/phys3112/euler.png)\n",
    "To get a feeling for the extent of the problem, we can calculate the total energy at each point, and see how that varies with time (it should remain constant for this example)."
   ]
  },
  {
   "cell_type": "code",
   "execution_count": null,
   "metadata": {
    "collapsed": false,
    "nbpresent": {
     "id": "81f3ff4f-e1f3-4ceb-84b8-b6a5995d39b6"
    }
   },
   "outputs": [],
   "source": [
    "import numpy as np\n",
    "import matplotlib.pyplot as plt\n",
    "%matplotlib inline\n",
    "\n",
    "# Define the spring constant and mass.\n",
    "\n",
    "k = 3.00\n",
    "m = 1.23\n",
    "\n",
    "# Choose the time step, and generate the array of time values.\n",
    "\n",
    "dt = 0.0001\n",
    "t = np.array(np.arange(0, 60.0, dt))\n",
    "\n",
    "# Set the initial position and velocity, and \n",
    "# initialise the array of positions.\n",
    "\n",
    "x = 0.1\n",
    "x_dot = 0.0\n",
    "x_arr = []\n",
    "e_arr = []\n",
    "\n",
    "# Now step from one time to the next, updating the position, \n",
    "# velocity, and acceleration.\n",
    "\n",
    "for time in t:\n",
    "\n",
    "    # Add the current position to the array of positions.\n",
    "    \n",
    "    x_arr.append(x)\n",
    "    \n",
    "    # Calculate the total energy. This should remain constant.\n",
    "    \n",
    "    e_arr.append(0.5 * m * x_dot**2 + 0.5 * k * x**2)\n",
    "        \n",
    "    # Calculate the acceleration from the ODE.\n",
    "    \n",
    "    x_double_dot = -(k / m) * x\n",
    "    \n",
    "    # Update the position and velocity\n",
    "    \n",
    "    x += x_dot * dt\n",
    "    x_dot += x_double_dot * dt\n",
    "\n",
    "plt.plot(t, x_arr)\n",
    "plt.xlabel(\"Time [seconds]\")\n",
    "plt.ylabel(\"Displacement [metres]\")\n",
    "plt.show()\n",
    "\n",
    "plt.plot(t, e_arr)\n",
    "plt.xlabel(\"Time [seconds]\")\n",
    "plt.ylabel(\"Energy [joules]\")\n",
    "plt.show()\n"
   ]
  },
  {
   "cell_type": "markdown",
   "metadata": {
    "nbpresent": {
     "id": "d22ed1f8-0a7c-4f11-a012-13345b6ca88c"
    }
   },
   "source": [
    "With a time step of 0.01 seconds we are seeing that the total energy of the system increases by a factor of four in 60 seconds. This is clearly not a good result.\n",
    "\n",
    "To improve the situation we can reduce the time step (try it!). However, a better approach is to use a more sophisticated numerical integration technique. A commonly used method is 4th order Runge-Kutta, which requires calculating the force at four points along each time interval. Its big advantage over the Euler method is that its accumulated error varies as the step size to the 4th power, whereas the Euler method is first order. So you gain a great deal more by halving the step size with Runge-Kutta.\n",
    "\n",
    "It turns out, however, that there is a simple improvement on the Euler method, called the leapfrog method, that works particularly well for dynamical systems (such as springs, and gravity) defined by 2nd order ODEs:\n",
    "\n",
    "$$x_{i+1}=x_i+\\dot{x}_{i+{1\\over 2}}\\Delta t$$\n",
    "$$\\ddot{x}_{i+1}=-{k\\over m}x_{i+1}$$\n",
    "$$\\dot{x}_{i+{3\\over 2}}=\\dot{x}_{i+{1\\over 2}}+\\ddot{x}_{i+1}\\Delta t$$\n",
    "\n",
    "Essentially we are simply evaluating the velocity at the midpoint of the interval. The number of times we evaluate the ODE is the same as for the Euler method."
   ]
  },
  {
   "cell_type": "code",
   "execution_count": null,
   "metadata": {
    "collapsed": false,
    "nbpresent": {
     "id": "7645b575-ec0f-42e4-a857-c3a550b63db6"
    }
   },
   "outputs": [],
   "source": [
    "import numpy as np\n",
    "import matplotlib.pyplot as plt\n",
    "%matplotlib inline\n",
    "\n",
    "# Define the spring constant and mass.\n",
    "\n",
    "k = 3.00\n",
    "m = 1.23\n",
    "\n",
    "# Choose the time step, and generate the array of time values.\n",
    "\n",
    "dt = 0.1\n",
    "t = np.array(np.arange(0, 60.0, dt))\n",
    "\n",
    "# Set the initial position and velocity.\n",
    "\n",
    "x = 0.1\n",
    "x_dot = 0.0\n",
    "\n",
    "# Update the velocity to the mid-point of the first time step.\n",
    "\n",
    "x_double_dot = -(k / m) * x\n",
    "x_dot += 0.5 * x_double_dot * dt\n",
    "\n",
    "# Initialise our result arrays.\n",
    "\n",
    "x_arr = []\n",
    "e_arr = []\n",
    "\n",
    "# Now step from one time to the next, updating the position, \n",
    "# velocity, and acceleration.\n",
    "\n",
    "for time in t:\n",
    "\n",
    "    # Add the current position to the array of positions.\n",
    "    \n",
    "    x_arr.append(x)\n",
    "    \n",
    "    # Calculate the total energy. This should remain constant.\n",
    "    # Note that we backtrack the velocity to the beginning of the time step.\n",
    "    \n",
    "    e_arr.append(0.5 * m * (x_dot - 0.5 * x_double_dot * dt)**2 + 0.5 * k * x**2)\n",
    "        \n",
    "    # Update the position and velocity using the leapfrog algorithm.\n",
    "    \n",
    "    x += x_dot * dt\n",
    "    x_double_dot = -(k / m) * x\n",
    "    x_dot += x_double_dot * dt\n",
    "\n",
    "plt.plot(t, x_arr)\n",
    "plt.xlabel(\"Time [seconds]\")\n",
    "plt.ylabel(\"Displacement [metres]\")\n",
    "plt.show()\n",
    "\n",
    "plt.plot(t, e_arr)\n",
    "plt.xlabel(\"Time [seconds]\")\n",
    "plt.ylabel(\"Energy [joules]\")\n",
    "plt.show()\n"
   ]
  },
  {
   "cell_type": "markdown",
   "metadata": {
    "nbpresent": {
     "id": "69255d0a-9307-46f8-90ae-465cf2fb0514"
    }
   },
   "source": [
    "This is a dramatic improvement over the Euler technique (look carefully at the energy axis to see how constant it is).\n",
    "\n",
    "## Heavy-duty numerical integration using scipy.integrate\n",
    "\n",
    "Having explored writing our own numerical integration techniques, let's now try a canned routine written by the experts. We are going to use scipy.integrate.odeint, which is essentially a Python wrapper around very efficiently written FORTRAN code. This makes it faster than pure Python.\n",
    "\n",
    "To begin with, we have to rewrite our 2nd order ODE as two coupled 1st order ODEs. This sounds complicated, but it is actually straightforward. The ODEs are:\n",
    "\n",
    "$$\\dot{x}=v$$\n",
    "\n",
    "$$\\dot{v}=-\\omega^2 x$$\n",
    "\n",
    "where I have writen $v$ rather than $\\dot{x}$ to clarify that we really do have two coupled 1st order ODEs. Now we have to write a Python function that takes a list containing the position and velocity, and returns a list containing their derivatives.\n",
    "\n",
    "Here is the function:"
   ]
  },
  {
   "cell_type": "code",
   "execution_count": null,
   "metadata": {
    "collapsed": true,
    "nbpresent": {
     "id": "fe116297-a7b3-4244-a463-49c0d28bebd4"
    }
   },
   "outputs": [],
   "source": [
    "# Takes position, velocity stored in the list \"y\", and\n",
    "# returns a list containing the time derivatives, i.e., \n",
    "# velocity and acceleration.\n",
    "#\n",
    "# \"t\" (the time) is not used in this function.\n",
    "# \"w\" contains the angular frequency, which is a constant supplied\n",
    "# by the user.\n",
    "\n",
    "def g(y, t, w):\n",
    "    x, v = y\n",
    "    return [v, -(w**2) * x]"
   ]
  },
  {
   "cell_type": "code",
   "execution_count": null,
   "metadata": {
    "collapsed": false,
    "nbpresent": {
     "id": "c6fc2ebc-8ea4-4c10-8cd8-bd41a6a0a3a2"
    }
   },
   "outputs": [],
   "source": [
    "from scipy.integrate import odeint\n",
    "\n",
    "# Create an array of time values.\n",
    "\n",
    "t = np.linspace(0, 60.0, 60.0 / 0.01)\n",
    "\n",
    "# The parameters of the spring system.\n",
    "\n",
    "k = 3.00\n",
    "m = 1.23\n",
    "w = (k / m)**0.5\n",
    "\n",
    "# Solve it! Note that the additional \"args\" supplied to \"odeint\"\n",
    "# must be in a tuple; \"(w,)\" creates a single-element tuple.\n",
    "\n",
    "solution = odeint(g, [0.1, 0.0], t, args=(w,))\n",
    "\n",
    "# \"solution\" is a 2D array, the first column contains the positions\n",
    "# and the second column the velocities.\n",
    "\n",
    "plt.plot(t, solution[:,0])\n",
    "plt.xlabel(\"Time [seconds]\")\n",
    "plt.ylabel(\"Displacement [metres]\")\n",
    "plt.show()\n",
    "\n",
    "# Calculate the energy and plot it.\n",
    "\n",
    "e = 0.5 * m * solution[:,1]**2 + 0.5 * k * solution[:,0]**2 \n",
    "plt.plot(t, e)\n",
    "plt.xlabel(\"Time [seconds]\")\n",
    "plt.ylabel(\"Energy [joules]\")\n",
    "plt.show()\n"
   ]
  },
  {
   "cell_type": "markdown",
   "metadata": {
    "nbpresent": {
     "id": "6eaf1897-97e8-47ea-871f-caf5faf8281e"
    }
   },
   "source": [
    "Look closely at the axis labels for the energy - it is actually very close to being constant.\n",
    "\n",
    "Note that scipy.integrate.odeint is actually very easy to use, so there really is no need to roll your own function for numerical integration.\n",
    "\n",
    "## Damped harmonic oscillators\n",
    "\n",
    "![](http://mcba11.phys.unsw.edu.au/~mcba/phys3112/damped-spring.gif)\n",
    "If we take a simple harmonic oscillator and add a damping term (i.e., a retarding force proportional to the velocity), we have the following 2nd order ODE:\n",
    "\n",
    "$$\\ddot{x}+2\\zeta\\omega_0\\dot{x}+\\omega_0^2x=0$$\n",
    "\n",
    "Where $\\omega_0$ is the undamped angular frequency, and $\\zeta$ is called the damping ratio. There are three damping regimes:\n",
    "\n",
    "* $\\zeta>1$, *overdamped*, the system exponentially decays to equilibrium without oscillation,\n",
    "* $\\zeta=1$, *critically damped*, the system reaches equilibrium as quickly as possible, overshooting once, and\n",
    "* $\\zeta<1$, *underdamped*, the system oscillates with steadily decreasing amplitude, eventually reaching equilibrium.\n",
    "\n",
    "For systems such as car shock-absorbers, you want critical damping. This is also important in temperature control applications, and many others.\n",
    "\n",
    "![](http://mcba11.phys.unsw.edu.au/~mcba/phys3112/shock.jpg)\n",
    "![](http://mcba11.phys.unsw.edu.au/~mcba/phys3112/rlc.png)\n",
    "\n",
    "\n",
    "The damped harmonic oscillator equation has widespread applicability across many areas of physics, including electronics (R, L, C oscillation) and even quantum mechanics. \n",
    "\n",
    "While the damped harmonic oscillator can be solved analytically, we will explore numerical solutions as before.\n",
    "\n",
    "We being by rewriting the damped harmonic oscillator equation as two coupled 1st order ODEs as follows:\n",
    "\n",
    "$$\\dot{x}=v$$\n",
    "\n",
    "$$\\dot{v}=-2\\zeta\\omega_0v-\\omega_0^2x$$\n",
    "\n",
    "So the function we supply to `scipy.integrate.odeint` looks like this:"
   ]
  },
  {
   "cell_type": "code",
   "execution_count": null,
   "metadata": {
    "collapsed": true,
    "nbpresent": {
     "id": "8e54f333-00e7-46db-86fa-323147c96ec2"
    }
   },
   "outputs": [],
   "source": [
    "def g(y, t, zeta, w0):\n",
    "    x, v = y\n",
    "    return [v, -2.0 * zeta * w0 * v - (w0**2) * x]"
   ]
  },
  {
   "cell_type": "markdown",
   "metadata": {
    "nbpresent": {
     "id": "e2b5321f-ad0f-485a-99f7-7c81e33e3b67"
    }
   },
   "source": [
    "Now follow the motion for 60 seconds using `scipy.integrate.odeint`. You should explore the effect of changing the damping ratio from 0, through 1, and up to higher numbers."
   ]
  },
  {
   "cell_type": "code",
   "execution_count": null,
   "metadata": {
    "collapsed": false,
    "nbpresent": {
     "id": "0b7e9d32-faf8-484f-bc68-b15e7f7e3926"
    }
   },
   "outputs": [],
   "source": [
    "from scipy.integrate import odeint\n",
    "\n",
    "# Create an array of time values.\n",
    "\n",
    "t = np.linspace(0, 60.0, 60.0 / 0.01)\n",
    "\n",
    "# The parameters.\n",
    "\n",
    "zeta = 10\n",
    "\n",
    "# We are using the same angular frequency as for the \n",
    "# previous simple harmonic case.\n",
    "\n",
    "w0 = (3.00/1.23)**0.5\n",
    "\n",
    "# Solve it! Note that the initial conditions are x = 0.1, v = 0.0.\n",
    "\n",
    "solution = odeint(g, [0.1, 0.0], t, args=(zeta, w0))\n",
    "\n",
    "# \"solution\" is a 2D array, the first column contains the positions\n",
    "# and the second column the velocities.\n",
    "\n",
    "plt.plot(t, solution[:,0])\n",
    "#plt.ylim(-0.00001,0.00001)\n",
    "plt.xlabel(\"Time [seconds]\")\n",
    "plt.ylabel(\"Displacement [metres]\")\n",
    "plt.show()\n"
   ]
  },
  {
   "cell_type": "markdown",
   "metadata": {
    "nbpresent": {
     "id": "f476276e-aa34-41da-a1a0-b7679636f13d"
    }
   },
   "source": [
    "## Adding a forcing function to a damped harmonic oscillator\n",
    "\n",
    "We can easily redefine our function \"g\" to include a forcing function (which is where the time argument comes in handy). This allows us to investigate the *steady state* response of the system (as opposed to the *transient* response that comes from the solution to the homogenous ODE), and to investigate effects such as resonance."
   ]
  },
  {
   "cell_type": "code",
   "execution_count": null,
   "metadata": {
    "collapsed": true,
    "nbpresent": {
     "id": "9d0b39d1-7c23-404f-9ee4-e71d40a97a2b"
    }
   },
   "outputs": [],
   "source": [
    "import math\n",
    "def g(y, t, zeta, w0):\n",
    "    x, v = y\n",
    "    return [v, -2.0 * zeta * w0 * v - (w0**2) * x + 0.1 * math.cos(0.95 * w0 * t)]"
   ]
  },
  {
   "cell_type": "markdown",
   "metadata": {
    "nbpresent": {
     "id": "58dec065-a7de-45f6-8686-4f487b65e6bc"
    }
   },
   "source": [
    "# Course survey\n",
    "\n",
    "Please complete this in-class on Thursday 16 March 2017.\n",
    "\n",
    "# https://goo.gl/forms/k04EPiGI6QW8nkyp2\n",
    "\n",
    "![](http://mcba11.phys.unsw.edu.au/~mcba/phys3112/qrcode.39307599.png)\n",
    "\n",
    "Another use for QR codes (sending text, in this case a program fragment):\n",
    "\n",
    "![](http://mcba11.phys.unsw.edu.au/~mcba/phys3112/qrcode.39307648.png)\n"
   ]
  },
  {
   "cell_type": "markdown",
   "metadata": {
    "nbpresent": {
     "id": "ceeeb73f-9954-4ef3-9694-373e19434af0"
    }
   },
   "source": [
    "## The simple pendulum, at large angles\n",
    "\n",
    "![](http://mcba11.phys.unsw.edu.au/~mcba/phys3112/pendulum.png)\n",
    "The simple pendulum is governed by the following 2nd order non-linear homogenous ODE.\n",
    "\n",
    "$$\\ddot{\\theta}+{g\\over l}\\sin{\\theta}=0$$\n",
    "\n",
    "To solve this we normally use the small angle approximation, replacing $\\sin{\\theta}$ with $\\theta$. Here we will solve the full equation numerically. We define a new variable $\\Omega$, which is just the time derivative of $\\theta$, so that we can write two coupled 1st order ODEs: \n",
    "\n",
    "$$\\dot{\\theta}=\\Omega$$\n",
    "\n",
    "$$\\dot{\\Omega}=-{g\\over l}\\sin{\\theta}$$\n",
    "\n",
    "We now write our function \"g\" (rather unfortunately named), and solve using `scipy.integrate.odeint`.\n"
   ]
  },
  {
   "cell_type": "code",
   "execution_count": null,
   "metadata": {
    "collapsed": false,
    "nbpresent": {
     "id": "cb4e61af-58e8-4f5b-957d-c88c6c35a7bc"
    }
   },
   "outputs": [],
   "source": [
    "import math\n",
    "from scipy.integrate import odeint\n",
    "\n",
    "# Here is the function that defines our set of coupled ODEs.\n",
    "# \"y\" is a numoy array containing theta and theta_dot.\n",
    "# The function returns a numpy array containing\n",
    "# theta_dot and theta_double_dot. \"t\" is the list of times,\n",
    "# which we don't use in this case. \"gravity\" and \"l\" are constants.\n",
    "\n",
    "def g(y, t, gravity, l):\n",
    "    theta, theta_dot = y\n",
    "    return [theta_dot, - (gravity / l) * math.sin(theta)]\n",
    "\n",
    "# Create an array of time values.\n",
    "\n",
    "t = np.linspace(0, 60.0, 60.0 / 0.01)\n",
    "\n",
    "# The parameters.\n",
    "\n",
    "gravity = 9.8\n",
    "l = 10.0\n",
    "\n",
    "# Solve it! The 2nd argument to \"odeint\" gives the initial conditions.\n",
    "\n",
    "solution = odeint(g, [math.pi * 0.99, 0.0], t, args=(gravity, l))\n",
    "\n",
    "plt.plot(t, solution[:,0])\n",
    "plt.xlabel(\"Time [seconds]\")\n",
    "plt.ylabel(\"Angle [radians]\")\n",
    "plt.show()\n"
   ]
  },
  {
   "cell_type": "markdown",
   "metadata": {
    "nbpresent": {
     "id": "e4aeaa0e-29d8-472c-9033-41d99b2c13f1"
    }
   },
   "source": [
    "You might be interested in a recent (January 2017) [paper published](http://iopscience.iop.org/article/10.1088/1361-6404/aa543f) on a *fast* converging power series for the period of the simple pendulum. The following equation is a *slowly* converging power series for the exact solution. $u$ and $k$ are functions of the amplitude and angle of the pendulum.\n",
    "\n",
    "![](http://mcba11.phys.unsw.edu.au/~mcba/phys3112/power-series.gif)"
   ]
  },
  {
   "cell_type": "markdown",
   "metadata": {
    "nbpresent": {
     "id": "5da55334-39b3-4540-91a2-f003f9bc8449"
    }
   },
   "source": [
    "## The three-body gravitational problem\n",
    "\n",
    "The two-body problem is relatively easy to solve analytically: the orbits are stable conic sections with focii at the barycentre (centre of mass) of the system.\n",
    "\n",
    "In contrast, the three-body problem can *not* be solved analytically (this was first proven in 1887 by Heinrich Bruns and Henri Poincare), apart from a few special cases that probably aren't interesting physically.\n",
    "\n",
    "So we have to use numerical techniques. The three DEs are, for $i=1\\ldots3$:\n",
    "\n",
    "$$\\ddot{r}_i=-G\\sum_{j=1;j\\ne i}^{j=3}{{m_j\\hat{r}_{ij}}\\over r_{ij}^2}$$\n",
    "\n",
    "where $\\ddot{r}_i$ is the 3D acceleration of particle $i$, $\\hat{r}_{ij}$ is the unit vector from particle $i$ to particle $j$, and $r_{ij}$ is the distance between particles $i$ and $j$.\n",
    "\n",
    "With three 2nd order ODEs, in three dimensions, this gives us 18 1st order scalar ODEs (9 positions, 9 velocities). This sounds difficult, but the function \"g\" to pass to `odeint` isn't *too* hard to write, as we see below."
   ]
  },
  {
   "cell_type": "code",
   "execution_count": null,
   "metadata": {
    "collapsed": false,
    "nbpresent": {
     "id": "f0c9a06d-33a3-404e-a596-6a91b434d0ed"
    }
   },
   "outputs": [],
   "source": [
    "# The numpy 1D array \"y\" contains the 3D positions of the \n",
    "# sun, earth, and moon, followed by their 3D velocities.\n",
    "# That is 18 numbers in all. The \"t\" array of times is not used.\n",
    "#\n",
    "# \"g\" returns the time derivatives of these quantities.\n",
    "\n",
    "def g(y, t):\n",
    "    \n",
    "    # Extract the positions from \"y\".\n",
    "    \n",
    "    x1, y1, z1, x2, y2, z2, x3, y3, z3 = y[:9]\n",
    "    \n",
    "    G  = 6.67E-11 # big G\n",
    "\n",
    "    m1 = 1.989E30 # mass of the sun\n",
    "    m2 = 5.976E24 # mass of the earth\n",
    "    m3 = 7.342E22 # mass of the moon\n",
    "    \n",
    "    # We calculate the cube of the distances between the objects,\n",
    "    # since we need to divide by distance squared, and then an\n",
    "    # additional factor of the distance to allow for the unit\n",
    "    # vector calculation of the force direction.\n",
    "    \n",
    "    r12 = ((x1-x2)**2 + (y1-y2)**2 + (z1-z2)**2)**1.5\n",
    "    r13 = ((x1-x3)**2 + (y1-y3)**2 + (z1-z3)**2)**1.5\n",
    "    r23 = ((x3-x2)**2 + (y3-y2)**2 + (z3-z2)**2)**1.5\n",
    "    \n",
    "    # Calculate the 3D components of the accelerations.\n",
    "    \n",
    "    ax1 = - G * (m2*(x1-x2)/r12 + m3*(x1-x3)/r13)\n",
    "    ay1 = - G * (m2*(y1-y2)/r12 + m3*(y1-y3)/r13)\n",
    "    az1 = - G * (m2*(z1-z2)/r12 + m3*(z1-z3)/r13)\n",
    "\n",
    "    ax2 = - G * (m1*(x2-x1)/r12 + m3*(x2-x3)/r23)\n",
    "    ay2 = - G * (m1*(y2-y1)/r12 + m3*(y2-y3)/r23)\n",
    "    az2 = - G * (m1*(z2-z1)/r12 + m3*(z2-z3)/r23)\n",
    "\n",
    "    ax3 = - G * (m2*(x3-x2)/r23 + m1*(x3-x1)/r13)\n",
    "    ay3 = - G * (m2*(y3-y2)/r23 + m1*(y3-y1)/r13)\n",
    "    az3 = - G * (m2*(z3-z2)/r23 + m1*(z3-z1)/r13)\n",
    "    v = y[9:]\n",
    "    return v.tolist() + [ax1, ay1, az1, ax2, ay2, az2, ax3, ay3, az3]\n",
    "\n",
    "# Create an array of time values. The order of the arguments is\n",
    "#  - initial time\n",
    "#  - final time\n",
    "#  - number of steps\n",
    "\n",
    "t = np.linspace(0, 3600*24*365.2422, 3000)\n",
    "\n",
    "# Solve it! The 2nd argument to \"odeint\" gives the initial conditions,\n",
    "# which have been carefully chosen to make the sun/earth/moon system\n",
    "# agree fairly closely with our solar system. It would have been better\n",
    "# have placed the barycentre of the solar system at (0,0,0) rather\n",
    "# than the sun. We start with the sun, earth, and moon on the x-axis.\n",
    "\n",
    "solution = odeint(g, [0,0,0,                # position of the sun\n",
    "                      149.6e9,0,0,          # position of the earth\n",
    "                      149.6e9 + 3.84399e8,0,0, # position of the moon\n",
    "                      0,0,0,                # velocity of the sun\n",
    "                      0,28.786E3,0,         # velocity of the earth\n",
    "                      0,28.786E3 + 1022,0   # velocity of the moon\n",
    "                      ], t)\n",
    "\n",
    "# And plot the solution.\n",
    "\n",
    "plt.plot(solution[:,3], solution[:,4]) # plot the (x,y) position of the earth\n",
    "#plt.plot(solution[:,6]-solution[:,3], solution[:,7]-solution[:,4]) # plot moon relative to earth\n",
    "plt.xlabel(\"Distance [metres]\")\n",
    "plt.ylabel(\"Distance [metres]\")\n",
    "plt.show()\n"
   ]
  },
  {
   "cell_type": "markdown",
   "metadata": {
    "nbpresent": {
     "id": "7c482917-a125-4305-96ac-89a56a09b4b0"
    }
   },
   "source": [
    "You can now experiment with various observation periods, and various initial conditions. You might like to try the so-called Pythagorean three-body problem, which is where you have three bodies with masses in the ratio 3:4:5, initially at rest at the vertices of a 3:4:5 triangle. In 1967 this was proved by Victor Szebehely to result in the escape of one of the bodies. "
   ]
  },
  {
   "cell_type": "markdown",
   "metadata": {
    "nbpresent": {
     "id": "8aff48aa-d4bf-4654-8323-22902f7f8de6"
    }
   },
   "source": [
    "## Discussion about n-body gravitation\n",
    "\n",
    "- For solving ODEs for more than a handful of objects, using `odeint` is not the best solution. There are more efficient ways of solving the gravitational problem, even involving special-purpose hardware such as the GRAPE computers. Recently, GPUs(graphical processing units, developed primarily for video games) are taking over as the engine of choice for state-of-the-art computation.\n",
    "\n",
    "- You are also likely to need to vary the timestep, so that you capture behaviour accurately when interactions are happening rapidly (on timescales of days for close binary stars, up to billions of years).\n",
    "\n",
    "- The solar system is unstable (in the sense that there could be major changes to the orbits, and possibly even the ejection of a planet) on timescales of 100s of millions (?) of years.\n",
    "\n",
    "- Even the smallest delta in positions/velocities can lead to chaotic behaviour.\n",
    "\n",
    "- Coping with large numbers (> 10,000) of particles is not for the faint-hearted. You need more particles than this for globular clusters, which can contain up to around a million stars. This has only been possible in the last decade.\n",
    "\n",
    "![](http://mcba11.phys.unsw.edu.au/~mcba/phys3112/glob.jpg)\n",
    "\n",
    "- The computation time for the naive algorithm we have been using goes as $O(N^2)$. More sophisticated algorithms use \"tree\" structures, where distant particles can be grouped together to reduce the computational complexity.\n",
    "\n",
    "- For a remarkable set of notes on \"the art of computatational science\" and the gravitational n-body problem, see [here](http://www.artcompsci.org/kali/development.html).\n",
    "\n",
    "- For a review of the state-of-the-art (in 2011) see [here](https://arxiv.org/abs/1105.1082). The following figure was taken from this paper: \n",
    "\n",
    "![](http://mcba11.phys.unsw.edu.au/~mcba/phys3112/gravhist.png)\n",
    "\n",
    "- There is a general pattern here that for many areas of physics in order to be at the forefront of research you need to have a combination of clever algorithms, access to powerful computers, and insight into what are the interesting areas of research.\n",
    "\n",
    "![](http://mcba11.phys.unsw.edu.au/~mcba/phys3112/Galaxy_cluster_sim.png)\n"
   ]
  },
  {
   "cell_type": "code",
   "execution_count": null,
   "metadata": {
    "collapsed": true
   },
   "outputs": [],
   "source": []
  }
 ],
 "metadata": {
  "anaconda-cloud": {},
  "kernelspec": {
   "display_name": "Python [conda root]",
   "language": "python",
   "name": "conda-root-py"
  },
  "language_info": {
   "codemirror_mode": {
    "name": "ipython",
    "version": 3
   },
   "file_extension": ".py",
   "mimetype": "text/x-python",
   "name": "python",
   "nbconvert_exporter": "python",
   "pygments_lexer": "ipython3",
   "version": "3.5.2"
  },
  "nbpresent": {
   "slides": {
    "02949cc3-c98e-4695-a15c-1e21be6e1faf": {
     "id": "02949cc3-c98e-4695-a15c-1e21be6e1faf",
     "prev": "edce01d3-076e-4961-a788-6b0e46ffa23c",
     "regions": {
      "0d2cc894-a526-40f5-a4d6-7f428dbf695a": {
       "attrs": {
        "height": 0.8,
        "width": 0.8,
        "x": 0.1,
        "y": 0.1
       },
       "content": {
        "cell": "8aff48aa-d4bf-4654-8323-22902f7f8de6",
        "part": "whole"
       },
       "id": "0d2cc894-a526-40f5-a4d6-7f428dbf695a"
      }
     }
    },
    "08dd8817-29c0-4e83-9642-0fd702d2ccb8": {
     "id": "08dd8817-29c0-4e83-9642-0fd702d2ccb8",
     "prev": "02949cc3-c98e-4695-a15c-1e21be6e1faf",
     "regions": {
      "6b8697cd-6ed4-438a-bcbb-81d880c6edb9": {
       "attrs": {
        "height": 0.8,
        "width": 0.8,
        "x": 0.1,
        "y": 0.1
       },
       "content": {
        "cell": "657851a2-9cc1-4467-a108-36ce55d47ffe",
        "part": "whole"
       },
       "id": "6b8697cd-6ed4-438a-bcbb-81d880c6edb9"
      }
     }
    },
    "0f707988-af11-49f9-8ceb-7e6d962cd015": {
     "id": "0f707988-af11-49f9-8ceb-7e6d962cd015",
     "prev": "b20e38ac-4e42-4383-b261-06f5cbb74681",
     "regions": {
      "e3cf33c4-7122-4fd3-97e8-380a8c72513d": {
       "attrs": {
        "height": 0.8,
        "width": 0.8,
        "x": 0.1,
        "y": 0.1
       },
       "content": {
        "cell": "f476276e-aa34-41da-a1a0-b7679636f13d",
        "part": "whole"
       },
       "id": "e3cf33c4-7122-4fd3-97e8-380a8c72513d"
      }
     }
    },
    "1d284cbf-afdd-4eca-82a4-a3f907379dc8": {
     "id": "1d284cbf-afdd-4eca-82a4-a3f907379dc8",
     "prev": "1d41ac5d-fa4d-47ec-8e27-33dcf766a25f",
     "regions": {
      "7d306560-78de-4cc4-932e-c1e8f0940253": {
       "attrs": {
        "height": 0.8,
        "width": 0.8,
        "x": 0.1,
        "y": 0.1
       },
       "content": {
        "cell": "742d8688-26af-4b63-8eef-16358a5bc6af",
        "part": "whole"
       },
       "id": "7d306560-78de-4cc4-932e-c1e8f0940253"
      }
     }
    },
    "1d41ac5d-fa4d-47ec-8e27-33dcf766a25f": {
     "id": "1d41ac5d-fa4d-47ec-8e27-33dcf766a25f",
     "prev": "bf423930-f839-4f7d-9a40-3f62cad3d6e0",
     "regions": {
      "f760a9dd-5b36-41d7-b3ae-cced387e8903": {
       "attrs": {
        "height": 0.8,
        "width": 0.8,
        "x": 0.1,
        "y": 0.1
       },
       "content": {
        "cell": "5cba4d27-79f6-4dfb-9665-effa710a5a21",
        "part": "whole"
       },
       "id": "f760a9dd-5b36-41d7-b3ae-cced387e8903"
      }
     }
    },
    "2c95113e-ef2c-44e0-b1f9-7903c75a09e8": {
     "id": "2c95113e-ef2c-44e0-b1f9-7903c75a09e8",
     "prev": "c3bd930b-29fe-4b15-8c34-149502b0871b",
     "regions": {
      "f0fa2eef-d84f-48ff-b91c-4027a6a4bd55": {
       "attrs": {
        "height": 0.8,
        "width": 0.8,
        "x": 0.1,
        "y": 0.1
       },
       "content": {
        "cell": "ceeeb73f-9954-4ef3-9694-373e19434af0",
        "part": "whole"
       },
       "id": "f0fa2eef-d84f-48ff-b91c-4027a6a4bd55"
      }
     }
    },
    "30d34982-7f38-4145-8011-c11805c4fa8c": {
     "id": "30d34982-7f38-4145-8011-c11805c4fa8c",
     "prev": "3317dad3-fd19-44c3-a1e4-78826e79b52f",
     "regions": {
      "7643cd34-bed5-49b3-af81-7d7d1297f5ae": {
       "attrs": {
        "height": 0.8,
        "width": 0.8,
        "x": 0.1,
        "y": 0.1
       },
       "content": {
        "cell": "d22ed1f8-0a7c-4f11-a012-13345b6ca88c",
        "part": "whole"
       },
       "id": "7643cd34-bed5-49b3-af81-7d7d1297f5ae"
      }
     }
    },
    "3317dad3-fd19-44c3-a1e4-78826e79b52f": {
     "id": "3317dad3-fd19-44c3-a1e4-78826e79b52f",
     "prev": "e1c1e7ca-dac1-402b-8ef2-946424468aaa",
     "regions": {
      "03b3e3b5-d8be-41f8-aa5b-314cf2b04ace": {
       "attrs": {
        "height": 0.8,
        "width": 0.8,
        "x": 0.1,
        "y": 0.1
       },
       "content": {
        "cell": "81f3ff4f-e1f3-4ceb-84b8-b6a5995d39b6",
        "part": "whole"
       },
       "id": "03b3e3b5-d8be-41f8-aa5b-314cf2b04ace"
      }
     }
    },
    "4769570d-fd5e-4226-9b96-a6fdf20994e0": {
     "id": "4769570d-fd5e-4226-9b96-a6fdf20994e0",
     "prev": "da005392-c5b8-4765-bff2-4f14d263fa12",
     "regions": {
      "ea4a3c4f-9900-42a3-aa26-c6e3965f13c6": {
       "attrs": {
        "height": 0.8,
        "width": 0.8,
        "x": 0.1,
        "y": 0.1
       },
       "content": {
        "cell": "fe116297-a7b3-4244-a463-49c0d28bebd4",
        "part": "whole"
       },
       "id": "ea4a3c4f-9900-42a3-aa26-c6e3965f13c6"
      }
     }
    },
    "58ff0ab8-65d4-4709-b4fa-2887c6898f06": {
     "id": "58ff0ab8-65d4-4709-b4fa-2887c6898f06",
     "prev": "94fbc407-a4a5-404c-8041-7174817e14bc",
     "regions": {
      "e8415905-b04f-4cbb-935d-8d0f76c9f40f": {
       "attrs": {
        "height": 0.8,
        "width": 0.8,
        "x": 0.1,
        "y": 0.1
       },
       "content": {
        "cell": "e4aeaa0e-29d8-472c-9033-41d99b2c13f1",
        "part": "whole"
       },
       "id": "e8415905-b04f-4cbb-935d-8d0f76c9f40f"
      }
     }
    },
    "5fbff2b1-5d10-4553-a35a-7f7bdaf7a4e1": {
     "id": "5fbff2b1-5d10-4553-a35a-7f7bdaf7a4e1",
     "prev": "f74b3b9b-4219-490a-b7ff-b59e1d432264",
     "regions": {
      "a08f3fb8-be31-41c3-8fe6-eb1138484745": {
       "attrs": {
        "height": 0.8,
        "width": 0.8,
        "x": 0.1,
        "y": 0.1
       },
       "content": {
        "cell": "e2b5321f-ad0f-485a-99f7-7c81e33e3b67",
        "part": "whole"
       },
       "id": "a08f3fb8-be31-41c3-8fe6-eb1138484745"
      }
     }
    },
    "6ba18904-1e2b-4652-8cb8-56ca83241191": {
     "id": "6ba18904-1e2b-4652-8cb8-56ca83241191",
     "prev": "b5ca5e55-8dbe-4884-84d6-8b2827aa8dae",
     "regions": {
      "da2cd762-2535-446a-a6e9-b76132efe101": {
       "attrs": {
        "height": 0.8,
        "width": 0.8,
        "x": 0.1,
        "y": 0.1
       },
       "content": {
        "cell": "6eaf1897-97e8-47ea-871f-caf5faf8281e",
        "part": "whole"
       },
       "id": "da2cd762-2535-446a-a6e9-b76132efe101"
      }
     }
    },
    "94fbc407-a4a5-404c-8041-7174817e14bc": {
     "id": "94fbc407-a4a5-404c-8041-7174817e14bc",
     "prev": "2c95113e-ef2c-44e0-b1f9-7903c75a09e8",
     "regions": {
      "da7e6267-c968-4dc2-981f-2f69b7965d2a": {
       "attrs": {
        "height": 0.8,
        "width": 0.8,
        "x": 0.1,
        "y": 0.1
       },
       "content": {
        "cell": "cb4e61af-58e8-4f5b-957d-c88c6c35a7bc",
        "part": "whole"
       },
       "id": "da7e6267-c968-4dc2-981f-2f69b7965d2a"
      }
     }
    },
    "b20e38ac-4e42-4383-b261-06f5cbb74681": {
     "id": "b20e38ac-4e42-4383-b261-06f5cbb74681",
     "prev": "5fbff2b1-5d10-4553-a35a-7f7bdaf7a4e1",
     "regions": {
      "5f35d8e9-6013-4366-a42c-bc1b49a72be3": {
       "attrs": {
        "height": 0.8,
        "width": 0.8,
        "x": 0.1,
        "y": 0.1
       },
       "content": {
        "cell": "0b7e9d32-faf8-484f-bc68-b15e7f7e3926",
        "part": "whole"
       },
       "id": "5f35d8e9-6013-4366-a42c-bc1b49a72be3"
      }
     }
    },
    "b5ca5e55-8dbe-4884-84d6-8b2827aa8dae": {
     "id": "b5ca5e55-8dbe-4884-84d6-8b2827aa8dae",
     "prev": "4769570d-fd5e-4226-9b96-a6fdf20994e0",
     "regions": {
      "cd37394a-c984-4567-9062-d67bccf86f3e": {
       "attrs": {
        "height": 0.8,
        "width": 0.8,
        "x": 0.1,
        "y": 0.1
       },
       "content": {
        "cell": "c6fc2ebc-8ea4-4c10-8cd8-bd41a6a0a3a2",
        "part": "whole"
       },
       "id": "cd37394a-c984-4567-9062-d67bccf86f3e"
      }
     }
    },
    "bbca021e-164e-4c5a-b912-1696f60b7622": {
     "id": "bbca021e-164e-4c5a-b912-1696f60b7622",
     "prev": "30d34982-7f38-4145-8011-c11805c4fa8c",
     "regions": {
      "5fd35031-9770-47ab-b378-89c47419983d": {
       "attrs": {
        "height": 0.8,
        "width": 0.8,
        "x": 0.1,
        "y": 0.1
       },
       "content": {
        "cell": "7645b575-ec0f-42e4-a857-c3a550b63db6",
        "part": "whole"
       },
       "id": "5fd35031-9770-47ab-b378-89c47419983d"
      }
     }
    },
    "bf423930-f839-4f7d-9a40-3f62cad3d6e0": {
     "id": "bf423930-f839-4f7d-9a40-3f62cad3d6e0",
     "prev": null,
     "regions": {
      "53f6b7b0-678d-43b3-9d55-06917799a68e": {
       "attrs": {
        "height": 0.8,
        "width": 0.8,
        "x": 0.1,
        "y": 0.1
       },
       "content": {
        "cell": "38270941-7363-450c-8faf-e30f21ee01a9",
        "part": "whole"
       },
       "id": "53f6b7b0-678d-43b3-9d55-06917799a68e"
      }
     }
    },
    "c3bd930b-29fe-4b15-8c34-149502b0871b": {
     "id": "c3bd930b-29fe-4b15-8c34-149502b0871b",
     "prev": "f466569b-6903-4fee-841c-f08bf7c9049e",
     "regions": {
      "ee40401f-302a-4e77-9c6f-07d24b193d33": {
       "attrs": {
        "height": 0.8,
        "width": 0.8,
        "x": 0.1,
        "y": 0.1
       },
       "content": {
        "cell": "58dec065-a7de-45f6-8686-4f487b65e6bc",
        "part": "whole"
       },
       "id": "ee40401f-302a-4e77-9c6f-07d24b193d33"
      }
     }
    },
    "da005392-c5b8-4765-bff2-4f14d263fa12": {
     "id": "da005392-c5b8-4765-bff2-4f14d263fa12",
     "prev": "bbca021e-164e-4c5a-b912-1696f60b7622",
     "regions": {
      "7408ccda-0dad-4f26-84c7-25f817260b04": {
       "attrs": {
        "height": 0.8,
        "width": 0.8,
        "x": 0.1,
        "y": 0.1
       },
       "content": {
        "cell": "69255d0a-9307-46f8-90ae-465cf2fb0514",
        "part": "whole"
       },
       "id": "7408ccda-0dad-4f26-84c7-25f817260b04"
      }
     }
    },
    "df08ea05-4589-47cf-a975-b7d7c6830030": {
     "id": "df08ea05-4589-47cf-a975-b7d7c6830030",
     "prev": "58ff0ab8-65d4-4709-b4fa-2887c6898f06",
     "regions": {
      "2a8283cd-b685-4cc4-8af0-30e2fe396cc7": {
       "attrs": {
        "height": 0.8,
        "width": 0.8,
        "x": 0.1,
        "y": 0.1
       },
       "content": {
        "cell": "5da55334-39b3-4540-91a2-f003f9bc8449",
        "part": "whole"
       },
       "id": "2a8283cd-b685-4cc4-8af0-30e2fe396cc7"
      }
     }
    },
    "e166bcdc-ced6-4534-9825-7a26a0a452ae": {
     "id": "e166bcdc-ced6-4534-9825-7a26a0a452ae",
     "prev": "1d284cbf-afdd-4eca-82a4-a3f907379dc8",
     "regions": {
      "6082d4e2-12e5-4a46-9330-3681f427fba7": {
       "attrs": {
        "height": 0.8,
        "width": 0.8,
        "x": 0.1,
        "y": 0.1
       },
       "content": {
        "cell": "c200a0aa-def4-40a1-adc3-7a54255bfe53",
        "part": "whole"
       },
       "id": "6082d4e2-12e5-4a46-9330-3681f427fba7"
      }
     }
    },
    "e1c1e7ca-dac1-402b-8ef2-946424468aaa": {
     "id": "e1c1e7ca-dac1-402b-8ef2-946424468aaa",
     "prev": "e166bcdc-ced6-4534-9825-7a26a0a452ae",
     "regions": {
      "cd7f0c6c-f5a0-4e2f-b699-68aa6edc6bce": {
       "attrs": {
        "height": 0.8,
        "width": 0.8,
        "x": 0.1,
        "y": 0.1
       },
       "content": {
        "cell": "6824702c-de9d-4466-8746-19a23ac9acac",
        "part": "whole"
       },
       "id": "cd7f0c6c-f5a0-4e2f-b699-68aa6edc6bce"
      }
     }
    },
    "e2edda33-1f72-469a-be56-478bffb2f894": {
     "id": "e2edda33-1f72-469a-be56-478bffb2f894",
     "prev": "df08ea05-4589-47cf-a975-b7d7c6830030",
     "regions": {
      "37c05b01-18b7-4c41-bd26-e94c826c6fe9": {
       "attrs": {
        "height": 0.8,
        "width": 0.8,
        "x": 0.1,
        "y": 0.1
       },
       "content": {
        "cell": "f0c9a06d-33a3-404e-a596-6a91b434d0ed",
        "part": "whole"
       },
       "id": "37c05b01-18b7-4c41-bd26-e94c826c6fe9"
      }
     }
    },
    "edce01d3-076e-4961-a788-6b0e46ffa23c": {
     "id": "edce01d3-076e-4961-a788-6b0e46ffa23c",
     "prev": "e2edda33-1f72-469a-be56-478bffb2f894",
     "regions": {
      "5f990a6f-5e98-4f6b-b904-f71b56c1ed44": {
       "attrs": {
        "height": 0.8,
        "width": 0.8,
        "x": 0.1,
        "y": 0.1
       },
       "content": {
        "cell": "7c482917-a125-4305-96ac-89a56a09b4b0",
        "part": "whole"
       },
       "id": "5f990a6f-5e98-4f6b-b904-f71b56c1ed44"
      }
     }
    },
    "f466569b-6903-4fee-841c-f08bf7c9049e": {
     "id": "f466569b-6903-4fee-841c-f08bf7c9049e",
     "prev": "0f707988-af11-49f9-8ceb-7e6d962cd015",
     "regions": {
      "988e8c86-2c1b-46e7-bb84-54756f71a1ec": {
       "attrs": {
        "height": 0.8,
        "width": 0.8,
        "x": 0.1,
        "y": 0.1
       },
       "content": {
        "cell": "9d0b39d1-7c23-404f-9ee4-e71d40a97a2b",
        "part": "whole"
       },
       "id": "988e8c86-2c1b-46e7-bb84-54756f71a1ec"
      }
     }
    },
    "f74b3b9b-4219-490a-b7ff-b59e1d432264": {
     "id": "f74b3b9b-4219-490a-b7ff-b59e1d432264",
     "prev": "6ba18904-1e2b-4652-8cb8-56ca83241191",
     "regions": {
      "f4505694-ddb2-44ba-9851-81ce24206308": {
       "attrs": {
        "height": 0.8,
        "width": 0.8,
        "x": 0.1,
        "y": 0.1
       },
       "content": {
        "cell": "8e54f333-00e7-46db-86fa-323147c96ec2",
        "part": "whole"
       },
       "id": "f4505694-ddb2-44ba-9851-81ce24206308"
      }
     }
    }
   },
   "themes": {}
  }
 },
 "nbformat": 4,
 "nbformat_minor": 1
}
